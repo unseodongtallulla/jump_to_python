{
  "nbformat": 4,
  "nbformat_minor": 0,
  "metadata": {
    "colab": {
      "name": "Untitled10.ipynb",
      "provenance": [],
      "authorship_tag": "ABX9TyMzdhjnLDkCgqYgS/N1CzA/",
      "include_colab_link": true
    },
    "kernelspec": {
      "name": "python3",
      "display_name": "Python 3"
    },
    "language_info": {
      "name": "python"
    }
  },
  "cells": [
    {
      "cell_type": "markdown",
      "metadata": {
        "id": "view-in-github",
        "colab_type": "text"
      },
      "source": [
        "<a href=\"https://colab.research.google.com/github/unseodongtallulla/jump_to_python/blob/main/%EC%A0%90%ED%94%84%ED%88%AC%ED%8C%8C%EC%9D%B4%EC%8D%AC(04-1%20%ED%95%A8%EC%88%98).ipynb\" target=\"_parent\"><img src=\"https://colab.research.google.com/assets/colab-badge.svg\" alt=\"Open In Colab\"/></a>"
      ]
    },
    {
      "cell_type": "markdown",
      "source": [
        "점프투파이썬 - 4장 프로그램의 입력과 출력"
      ],
      "metadata": {
        "id": "550Qv-1o6Xir"
      }
    },
    {
      "cell_type": "markdown",
      "source": [
        "04-1. 함수"
      ],
      "metadata": {
        "id": "LacVRZcl6dC6"
      }
    },
    {
      "cell_type": "markdown",
      "source": [
        "파이썬 함수의 구조"
      ],
      "metadata": {
        "id": "e4BN6wLZ6jOw"
      }
    },
    {
      "cell_type": "code",
      "execution_count": 4,
      "metadata": {
        "id": "3tdigP8z6VAF"
      },
      "outputs": [],
      "source": [
        "def add(a, b):\n",
        "    return a + b"
      ]
    },
    {
      "cell_type": "markdown",
      "source": [
        "위 함수의 이름(함수 이름)은 add이고 입력으로 2개의 값이 있고, 결괏값은 2개의 입력값을 더한 값이다.\n",
        "// def 함수이름(매개변수): / 수행할 문장1 / 수행할 문장2 ......"
      ],
      "metadata": {
        "id": "NE7xt3nO6qYt"
      }
    },
    {
      "cell_type": "code",
      "source": [
        " a = 3\n",
        " b = 4\n",
        " c = add(a, b)\n",
        " print(c)"
      ],
      "metadata": {
        "colab": {
          "base_uri": "https://localhost:8080/"
        },
        "id": "nlZb8Dhx67AC",
        "outputId": "6f83b78a-9db0-4e34-f1bb-21ddb4030341"
      },
      "execution_count": 5,
      "outputs": [
        {
          "output_type": "stream",
          "name": "stdout",
          "text": [
            "7\n"
          ]
        }
      ]
    },
    {
      "cell_type": "markdown",
      "source": [
        "일반적인 함수"
      ],
      "metadata": {
        "id": "jXVet-g67jTO"
      }
    },
    {
      "cell_type": "code",
      "source": [
        "def add(a, b):\n",
        "    result = a + b\n",
        "    return result\n",
        "\n",
        "a = add(3,4)\n",
        "print(a)"
      ],
      "metadata": {
        "colab": {
          "base_uri": "https://localhost:8080/"
        },
        "id": "3yO1COfA7HIr",
        "outputId": "3a0eb344-8b34-435e-c1a1-8571eb621e3d"
      },
      "execution_count": 6,
      "outputs": [
        {
          "output_type": "stream",
          "name": "stdout",
          "text": [
            "7\n"
          ]
        }
      ]
    },
    {
      "cell_type": "markdown",
      "source": [
        "입력값이 없는 함수"
      ],
      "metadata": {
        "id": "uRpZVm6q75Ix"
      }
    },
    {
      "cell_type": "code",
      "source": [
        "def say():\n",
        "    return \"Hi\"\n",
        "  \n",
        "a = say()\n",
        "print(a)"
      ],
      "metadata": {
        "colab": {
          "base_uri": "https://localhost:8080/"
        },
        "id": "XfMPgYIB711W",
        "outputId": "455d067e-0079-42d3-f6b1-a15bcbcedb99"
      },
      "execution_count": 8,
      "outputs": [
        {
          "output_type": "stream",
          "name": "stdout",
          "text": [
            "Hi\n"
          ]
        }
      ]
    },
    {
      "cell_type": "markdown",
      "source": [
        "결괏값이 없는 함수"
      ],
      "metadata": {
        "id": "6e0fJXVU8Hbe"
      }
    },
    {
      "cell_type": "code",
      "source": [
        "def add(a, b):\n",
        "    print(\"%d, %d의 합은 %d입니다.\" %(a, b, a+b))\n",
        "\n",
        "add(3,4)"
      ],
      "metadata": {
        "colab": {
          "base_uri": "https://localhost:8080/"
        },
        "id": "RWafTCM38CNO",
        "outputId": "fc72cb0b-b830-4c09-fa23-e3d4918493af"
      },
      "execution_count": 9,
      "outputs": [
        {
          "output_type": "stream",
          "name": "stdout",
          "text": [
            "3, 4의 합은 7입니다.\n"
          ]
        }
      ]
    },
    {
      "cell_type": "code",
      "source": [
        "a = add(3,4)"
      ],
      "metadata": {
        "colab": {
          "base_uri": "https://localhost:8080/"
        },
        "id": "ICeI2H4m8d8K",
        "outputId": "e4ed16e4-b495-4a19-f5d4-c32a87d306b6"
      },
      "execution_count": 10,
      "outputs": [
        {
          "output_type": "stream",
          "name": "stdout",
          "text": [
            "3, 4의 합은 7입니다.\n"
          ]
        }
      ]
    },
    {
      "cell_type": "code",
      "source": [
        "print(a)"
      ],
      "metadata": {
        "colab": {
          "base_uri": "https://localhost:8080/"
        },
        "id": "pSt9DLLE8pON",
        "outputId": "59d58fab-c183-470d-c211-2c1db1b46a57"
      },
      "execution_count": 11,
      "outputs": [
        {
          "output_type": "stream",
          "name": "stdout",
          "text": [
            "None\n"
          ]
        }
      ]
    },
    {
      "cell_type": "markdown",
      "source": [
        "매개변수 지정하여 호출하기"
      ],
      "metadata": {
        "id": "Fpf2ntOq818L"
      }
    },
    {
      "cell_type": "code",
      "source": [
        "def add(a, b):\n",
        "    return a + b\n",
        "\n",
        "result = add(a=3, b=7)\n",
        "print(result)"
      ],
      "metadata": {
        "colab": {
          "base_uri": "https://localhost:8080/"
        },
        "id": "3tZ8UWB08sEh",
        "outputId": "cf752db9-81b6-410f-fa86-e25c34d0a414"
      },
      "execution_count": 12,
      "outputs": [
        {
          "output_type": "stream",
          "name": "stdout",
          "text": [
            "10\n"
          ]
        }
      ]
    },
    {
      "cell_type": "markdown",
      "source": [
        "여러 개의 입력값을 받는 함수 만들기"
      ],
      "metadata": {
        "id": "hrALhiPC9OmY"
      }
    },
    {
      "cell_type": "code",
      "source": [
        "def add_many(*args):\n",
        "    result = 0\n",
        "    for i in args:\n",
        "        result = result + i\n",
        "    return result\n",
        "\n",
        "result = add_many(1,2,3)\n",
        "print(result)    \n"
      ],
      "metadata": {
        "colab": {
          "base_uri": "https://localhost:8080/"
        },
        "id": "QmNy0_rU9FiE",
        "outputId": "5e309a22-7183-4d7f-ff12-1d46c60144ed"
      },
      "execution_count": 13,
      "outputs": [
        {
          "output_type": "stream",
          "name": "stdout",
          "text": [
            "6\n"
          ]
        }
      ]
    },
    {
      "cell_type": "code",
      "source": [
        "result = add_many(1,2,3,4,5,6,7,8,9,10)\n",
        "print(result)"
      ],
      "metadata": {
        "colab": {
          "base_uri": "https://localhost:8080/"
        },
        "id": "mJMYZerw9zG5",
        "outputId": "b497813e-3dee-4efb-de95-c79599007c67"
      },
      "execution_count": 16,
      "outputs": [
        {
          "output_type": "stream",
          "name": "stdout",
          "text": [
            "55\n"
          ]
        }
      ]
    },
    {
      "cell_type": "code",
      "source": [
        "def add_mul(choice, *args):\n",
        "    if choice == \"add\":\n",
        "        result = 0\n",
        "        for i in args:\n",
        "            result = result + i\n",
        "    elif choice == \"mul\":\n",
        "        result = 1\n",
        "        for i in args:\n",
        "            result = result * i\n",
        "    return result"
      ],
      "metadata": {
        "id": "0-HQHDfG98qo"
      },
      "execution_count": 17,
      "outputs": []
    },
    {
      "cell_type": "code",
      "source": [
        "result = add_mul('add', 1,2,3,4,5)\n",
        "print(result)"
      ],
      "metadata": {
        "colab": {
          "base_uri": "https://localhost:8080/"
        },
        "id": "plv-FymN_DxL",
        "outputId": "f84922b4-e05b-40f7-f6af-85b6222574de"
      },
      "execution_count": 18,
      "outputs": [
        {
          "output_type": "stream",
          "name": "stdout",
          "text": [
            "15\n"
          ]
        }
      ]
    },
    {
      "cell_type": "code",
      "source": [
        "result = add_mul('mul', 1,2,3,4,5)\n",
        "print(result)"
      ],
      "metadata": {
        "colab": {
          "base_uri": "https://localhost:8080/"
        },
        "id": "Bq0Ow17s_Lfb",
        "outputId": "766b03d8-8e1c-4233-8964-01de0bce8167"
      },
      "execution_count": 19,
      "outputs": [
        {
          "output_type": "stream",
          "name": "stdout",
          "text": [
            "120\n"
          ]
        }
      ]
    },
    {
      "cell_type": "markdown",
      "source": [
        "키워드 파라미터"
      ],
      "metadata": {
        "id": "Mxeid3oC_nlm"
      }
    },
    {
      "cell_type": "code",
      "source": [
        "def print_kwargs(**kwargs):\n",
        "    print(kwargs)"
      ],
      "metadata": {
        "id": "XcPZlvsg_fBs"
      },
      "execution_count": 20,
      "outputs": []
    },
    {
      "cell_type": "code",
      "source": [
        "print_kwargs(a=1)"
      ],
      "metadata": {
        "colab": {
          "base_uri": "https://localhost:8080/"
        },
        "id": "ZtNAJ7-Z_xqb",
        "outputId": "22e9acf3-6d00-46be-99d9-0d72caefc893"
      },
      "execution_count": 21,
      "outputs": [
        {
          "output_type": "stream",
          "name": "stdout",
          "text": [
            "{'a': 1}\n"
          ]
        }
      ]
    },
    {
      "cell_type": "code",
      "source": [
        "print_kwargs(name = 'foo', age = 3)"
      ],
      "metadata": {
        "colab": {
          "base_uri": "https://localhost:8080/"
        },
        "id": "ixMAmAEb_2jZ",
        "outputId": "a81192c2-4fc5-432d-d534-fe193eb4b96d"
      },
      "execution_count": 22,
      "outputs": [
        {
          "output_type": "stream",
          "name": "stdout",
          "text": [
            "{'name': 'foo', 'age': 3}\n"
          ]
        }
      ]
    },
    {
      "cell_type": "markdown",
      "source": [
        "함수의 결괏값은 언제나 하나이다"
      ],
      "metadata": {
        "id": "tzZdYNoSAWWT"
      }
    },
    {
      "cell_type": "code",
      "source": [
        "def add_and_mul(a,b):\n",
        "    return a+b, a*b\n",
        "\n",
        "result = add_and_mul(3,4)"
      ],
      "metadata": {
        "id": "jabPMxdYASOD"
      },
      "execution_count": 23,
      "outputs": []
    },
    {
      "cell_type": "code",
      "source": [
        "print(result)"
      ],
      "metadata": {
        "colab": {
          "base_uri": "https://localhost:8080/"
        },
        "id": "s0xfp2CNBmYq",
        "outputId": "6bb1d3c2-9ce0-4c2e-bb78-ecac755fda9e"
      },
      "execution_count": 24,
      "outputs": [
        {
          "output_type": "stream",
          "name": "stdout",
          "text": [
            "(7, 12)\n"
          ]
        }
      ]
    },
    {
      "cell_type": "markdown",
      "source": [
        "return의 또 다른 쓰임새"
      ],
      "metadata": {
        "id": "XTwUfqUMCQEA"
      }
    },
    {
      "cell_type": "code",
      "source": [
        "def say_nick(nick):\n",
        "    if nick == \"바보\":\n",
        "        return\n",
        "    print(\"나의 별명은 %s입니다.\" % nick)\n",
        "\n",
        "say_nick(\"야호\")"
      ],
      "metadata": {
        "colab": {
          "base_uri": "https://localhost:8080/"
        },
        "id": "SBVsC16OBxxz",
        "outputId": "8fe83b20-7f8b-4e35-9208-36a7a1d4ef9b"
      },
      "execution_count": 25,
      "outputs": [
        {
          "output_type": "stream",
          "name": "stdout",
          "text": [
            "나의 별명은 야호입니다.\n"
          ]
        }
      ]
    },
    {
      "cell_type": "code",
      "source": [
        "say_nick(\"야호\")\n",
        "say_nick(\"바보\")"
      ],
      "metadata": {
        "colab": {
          "base_uri": "https://localhost:8080/"
        },
        "id": "ksJUK0w_CoF1",
        "outputId": "426b8402-93f7-4035-9306-4d36dbf7228b"
      },
      "execution_count": 26,
      "outputs": [
        {
          "output_type": "stream",
          "name": "stdout",
          "text": [
            "나의 별명은 야호입니다.\n"
          ]
        }
      ]
    },
    {
      "cell_type": "markdown",
      "source": [
        "매개변수에 초깃값 미리 설정하기"
      ],
      "metadata": {
        "id": "mjlaznvCDJ_w"
      }
    },
    {
      "cell_type": "code",
      "source": [
        "def say_myself(name, old, man=True):\n",
        "    print(\"나의 이름은 %s입니다.\" %name)\n",
        "    print(\"나이는 %d살입니다.\" % old)\n",
        "    if man:\n",
        "        print(\"남자입니다.\")\n",
        "    else:\n",
        "        print(\"여자입니다.\")"
      ],
      "metadata": {
        "id": "3rtDZhZfDFok"
      },
      "execution_count": 27,
      "outputs": []
    },
    {
      "cell_type": "code",
      "source": [
        "say_myself(\"정원영\", 34, True)"
      ],
      "metadata": {
        "colab": {
          "base_uri": "https://localhost:8080/"
        },
        "id": "C5Rg3bl0DvC0",
        "outputId": "539fe7a5-f22d-4762-d7ab-bd37b205f26b"
      },
      "execution_count": 29,
      "outputs": [
        {
          "output_type": "stream",
          "name": "stdout",
          "text": [
            "나의 이름은 정원영입니다.\n",
            "나이는 34살입니다.\n",
            "남자입니다.\n"
          ]
        }
      ]
    },
    {
      "cell_type": "markdown",
      "source": [
        "함수 안에서 선언한 변수의 효력 범위"
      ],
      "metadata": {
        "id": "rQaIsriuEJcP"
      }
    },
    {
      "cell_type": "code",
      "source": [
        "a = 1\n",
        "def vartest(a):\n",
        "    a = a + 1\n",
        "\n",
        "vartest(a)\n",
        "print(a)"
      ],
      "metadata": {
        "colab": {
          "base_uri": "https://localhost:8080/"
        },
        "id": "7N9Z5AMgD1Z9",
        "outputId": "1b7ba3b4-55c5-4708-d07d-065186e01147"
      },
      "execution_count": 30,
      "outputs": [
        {
          "output_type": "stream",
          "name": "stdout",
          "text": [
            "1\n"
          ]
        }
      ]
    },
    {
      "cell_type": "markdown",
      "source": [
        "함수 안에서 함수 밖의 변수를 변경하는 방법\n",
        "// 1. return 사용하기"
      ],
      "metadata": {
        "id": "ei9R81RaEmmy"
      }
    },
    {
      "cell_type": "code",
      "source": [
        "a = 1\n",
        "def vartest(a):\n",
        "    a = a + 1\n",
        "    return a\n",
        "\n",
        "a = vartest(a)\n",
        "print(a)"
      ],
      "metadata": {
        "colab": {
          "base_uri": "https://localhost:8080/"
        },
        "id": "6yEYJrqcEd3D",
        "outputId": "2da7611e-a4f6-406a-a676-becc685be13b"
      },
      "execution_count": 31,
      "outputs": [
        {
          "output_type": "stream",
          "name": "stdout",
          "text": [
            "2\n"
          ]
        }
      ]
    },
    {
      "cell_type": "markdown",
      "source": [
        "함수 안에서 함수 밖의 변수를 변경하는 방법\n",
        "// 2. global 명령어 사용하기"
      ],
      "metadata": {
        "id": "NlN5KWMDFFv6"
      }
    },
    {
      "cell_type": "code",
      "source": [
        "a = 1\n",
        "def vartest():\n",
        "    global a\n",
        "    a = a + 1\n",
        "\n",
        "vartest()\n",
        "print(a)"
      ],
      "metadata": {
        "colab": {
          "base_uri": "https://localhost:8080/"
        },
        "id": "q3w_s100E-y5",
        "outputId": "23158c64-b9f9-40b7-92fd-76d24c54e313"
      },
      "execution_count": 32,
      "outputs": [
        {
          "output_type": "stream",
          "name": "stdout",
          "text": [
            "2\n"
          ]
        }
      ]
    },
    {
      "cell_type": "markdown",
      "source": [
        "lambda 함수"
      ],
      "metadata": {
        "id": "VMD5LPa7FZDU"
      }
    },
    {
      "cell_type": "code",
      "source": [
        "add = lambda a, b: a+b\n",
        "result = add(3,4)\n",
        "print(result)"
      ],
      "metadata": {
        "colab": {
          "base_uri": "https://localhost:8080/"
        },
        "id": "UXBrSu56FV1i",
        "outputId": "9ddc22bd-074c-4593-b245-8ec3c02a7a1c"
      },
      "execution_count": 33,
      "outputs": [
        {
          "output_type": "stream",
          "name": "stdout",
          "text": [
            "7\n"
          ]
        }
      ]
    },
    {
      "cell_type": "code",
      "source": [
        ""
      ],
      "metadata": {
        "id": "J_dM9HJeFmww"
      },
      "execution_count": null,
      "outputs": []
    }
  ]
}