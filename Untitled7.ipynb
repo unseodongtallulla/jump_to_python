{
  "nbformat": 4,
  "nbformat_minor": 0,
  "metadata": {
    "colab": {
      "name": "Untitled7.ipynb",
      "provenance": [],
      "authorship_tag": "ABX9TyNlAH6YWzfNJyrgz4CczpaO",
      "include_colab_link": true
    },
    "kernelspec": {
      "name": "python3",
      "display_name": "Python 3"
    },
    "language_info": {
      "name": "python"
    }
  },
  "cells": [
    {
      "cell_type": "markdown",
      "metadata": {
        "id": "view-in-github",
        "colab_type": "text"
      },
      "source": [
        "<a href=\"https://colab.research.google.com/github/unseodongtallulla/jump_to_python/blob/main/Untitled7.ipynb\" target=\"_parent\"><img src=\"https://colab.research.google.com/assets/colab-badge.svg\" alt=\"Open In Colab\"/></a>"
      ]
    },
    {
      "cell_type": "markdown",
      "source": [
        "6일차 학습 - 03-1. if문"
      ],
      "metadata": {
        "id": "GGBj_MQbFnb5"
      }
    },
    {
      "cell_type": "code",
      "execution_count": 1,
      "metadata": {
        "colab": {
          "base_uri": "https://localhost:8080/"
        },
        "id": "YHrZSC2YFlaN",
        "outputId": "b4d96dba-6493-4064-8b29-c5fe520f9909"
      },
      "outputs": [
        {
          "output_type": "stream",
          "name": "stdout",
          "text": [
            "택시를 타고 가라\n"
          ]
        }
      ],
      "source": [
        "money = True\n",
        "if money:\n",
        "  print(\"택시를 타고 가라\")\n",
        "else:\n",
        "  print(\"걸어 가라\")  "
      ]
    },
    {
      "cell_type": "markdown",
      "source": [
        "if문의 기본 구조 // if 조건문: 수행할 문장1 //수행할 문장2 /else: // 수행할 문장1 // 수행할 문장2"
      ],
      "metadata": {
        "id": "FFDmBto5GCsF"
      }
    },
    {
      "cell_type": "code",
      "source": [
        "x = 3\n",
        "y = 2\n",
        "x > y"
      ],
      "metadata": {
        "colab": {
          "base_uri": "https://localhost:8080/"
        },
        "id": "JGgA_dRlF66q",
        "outputId": "c9953972-846c-4966-8d3e-fbdd75ac7edf"
      },
      "execution_count": 2,
      "outputs": [
        {
          "output_type": "execute_result",
          "data": {
            "text/plain": [
              "True"
            ]
          },
          "metadata": {},
          "execution_count": 2
        }
      ]
    },
    {
      "cell_type": "code",
      "source": [
        "x < y"
      ],
      "metadata": {
        "colab": {
          "base_uri": "https://localhost:8080/"
        },
        "id": "-sxpvQuUGslS",
        "outputId": "4d0ff828-11f2-4dd7-aa36-0e2456e580c0"
      },
      "execution_count": 3,
      "outputs": [
        {
          "output_type": "execute_result",
          "data": {
            "text/plain": [
              "False"
            ]
          },
          "metadata": {},
          "execution_count": 3
        }
      ]
    },
    {
      "cell_type": "code",
      "source": [
        "x == y"
      ],
      "metadata": {
        "colab": {
          "base_uri": "https://localhost:8080/"
        },
        "id": "qftK-4LzGvEY",
        "outputId": "7ccd26ec-e0d3-41cc-fbfe-a26f97a88033"
      },
      "execution_count": 4,
      "outputs": [
        {
          "output_type": "execute_result",
          "data": {
            "text/plain": [
              "False"
            ]
          },
          "metadata": {},
          "execution_count": 4
        }
      ]
    },
    {
      "cell_type": "markdown",
      "source": [
        "깜짝 퀴즈 - 만약 3000원 이상의 돈을 가지고 있으면 택시를 타고 그렇지 않으면 걸어 가라."
      ],
      "metadata": {
        "id": "G1Z9ClexG0At"
      }
    },
    {
      "cell_type": "code",
      "source": [
        "money = 2000\n",
        "if money >= 3000:\n",
        "    print(\"택시를 타고 가라\")\n",
        "else:\n",
        "    print(\"걸어 가라\")"
      ],
      "metadata": {
        "colab": {
          "base_uri": "https://localhost:8080/"
        },
        "id": "2V_uTzj2GxIe",
        "outputId": "b30e41d3-b885-4d8a-a377-d63c75beebe7"
      },
      "execution_count": 5,
      "outputs": [
        {
          "output_type": "stream",
          "name": "stdout",
          "text": [
            "걸어 가라\n"
          ]
        }
      ]
    },
    {
      "cell_type": "markdown",
      "source": [
        "연산자 : 1. x or y // x와 y 둘 중에 하나만 참이어도 참이다. /// 2. x and y // x와 y 모두 참이어야 참이다. /// 3. not x // x가 거짓이면 참이다."
      ],
      "metadata": {
        "id": "0DDQ2vCiHVeA"
      }
    },
    {
      "cell_type": "markdown",
      "source": [
        "깜짝 퀴즈 : 돈이 3000원 이상 있거나 카드가 있다면 택시를 타고 그렇지 않으면 걸어 가라."
      ],
      "metadata": {
        "id": "HMiuRRpCHp5S"
      }
    },
    {
      "cell_type": "code",
      "source": [
        "money = 2000\n",
        "card = True\n",
        "if money >= 3000 or card:\n",
        "    print(\"택시를 타고 가라\")\n",
        "else:\n",
        "    print(\"걸어 가라\")"
      ],
      "metadata": {
        "colab": {
          "base_uri": "https://localhost:8080/"
        },
        "id": "8qQWLE-KHQzv",
        "outputId": "6b9c6100-9a99-4898-a466-0a645ac63591"
      },
      "execution_count": 7,
      "outputs": [
        {
          "output_type": "stream",
          "name": "stdout",
          "text": [
            "택시를 타고 가라\n"
          ]
        }
      ]
    },
    {
      "cell_type": "markdown",
      "source": [
        "in - x in 리스트// x in 튜플 // x in 문자열 /// not in - x not in 리스트 // x not in 튜플 // x not in 문자열"
      ],
      "metadata": {
        "id": "_3NUgOQ4IWz9"
      }
    },
    {
      "cell_type": "code",
      "source": [
        "1 in [1,2,3]"
      ],
      "metadata": {
        "colab": {
          "base_uri": "https://localhost:8080/"
        },
        "id": "l0DqlYjQIK2T",
        "outputId": "c093a9d9-6a61-4b0d-bcfe-1d636057f3a7"
      },
      "execution_count": 8,
      "outputs": [
        {
          "output_type": "execute_result",
          "data": {
            "text/plain": [
              "True"
            ]
          },
          "metadata": {},
          "execution_count": 8
        }
      ]
    },
    {
      "cell_type": "code",
      "source": [
        "1 not in [1,2,3]"
      ],
      "metadata": {
        "colab": {
          "base_uri": "https://localhost:8080/"
        },
        "id": "lrYv_nevIw0x",
        "outputId": "3ba185d6-1cf8-4d08-f2a1-e23cd0f0082e"
      },
      "execution_count": 9,
      "outputs": [
        {
          "output_type": "execute_result",
          "data": {
            "text/plain": [
              "False"
            ]
          },
          "metadata": {},
          "execution_count": 9
        }
      ]
    },
    {
      "cell_type": "code",
      "source": [
        "'a' in ('a','b','c')"
      ],
      "metadata": {
        "colab": {
          "base_uri": "https://localhost:8080/"
        },
        "id": "E0loeS3EIzCZ",
        "outputId": "d1a8e657-0378-4ae2-a737-8f963237639c"
      },
      "execution_count": 10,
      "outputs": [
        {
          "output_type": "execute_result",
          "data": {
            "text/plain": [
              "True"
            ]
          },
          "metadata": {},
          "execution_count": 10
        }
      ]
    },
    {
      "cell_type": "code",
      "source": [
        "'j' not in ('a','b','c')"
      ],
      "metadata": {
        "colab": {
          "base_uri": "https://localhost:8080/"
        },
        "id": "uMeCLG-4I4ft",
        "outputId": "4cd3b176-cb34-4f1b-db4d-a3aef2eb4929"
      },
      "execution_count": 11,
      "outputs": [
        {
          "output_type": "execute_result",
          "data": {
            "text/plain": [
              "True"
            ]
          },
          "metadata": {},
          "execution_count": 11
        }
      ]
    },
    {
      "cell_type": "markdown",
      "source": [
        "깜짝 퀴즈 : 만약 주머니에 돈이 있으면 택시를 타고, 없으면 걸어 가라."
      ],
      "metadata": {
        "id": "iqhd0_lQI_lQ"
      }
    },
    {
      "cell_type": "code",
      "source": [
        "pocket = ['paper','cellphone','money']\n",
        "if 'money' in pocket:\n",
        "    print(\"택시를 타고 가라\")\n",
        "else:\n",
        "    print(\"걸어 가라\")"
      ],
      "metadata": {
        "colab": {
          "base_uri": "https://localhost:8080/"
        },
        "id": "RZ7r4LgmI932",
        "outputId": "0bf876cd-0290-4d57-a1fb-93ae465c9250"
      },
      "execution_count": 14,
      "outputs": [
        {
          "output_type": "stream",
          "name": "stdout",
          "text": [
            "택시를 타고 가라\n"
          ]
        }
      ]
    },
    {
      "cell_type": "markdown",
      "source": [
        "나혼자 코딩 : '주머니에 카드가 없다면 걸어가고, 있다면 버스를 타고 가라'는 문장을 조건문으로 만들어 보자."
      ],
      "metadata": {
        "id": "44xaq5teJ251"
      }
    },
    {
      "cell_type": "code",
      "source": [
        "pocket = ['card', 'money', 'cellphone']\n",
        "if 'card' in pocket:\n",
        "    print(\"버스를 타고 가라\")\n",
        "else:\n",
        "    print(\"걸어 가라\")"
      ],
      "metadata": {
        "colab": {
          "base_uri": "https://localhost:8080/"
        },
        "id": "VboVRUjPJp8n",
        "outputId": "a09cf3e6-0f10-4ae9-c83e-09236efc2cfc"
      },
      "execution_count": 15,
      "outputs": [
        {
          "output_type": "stream",
          "name": "stdout",
          "text": [
            "버스를 타고 가라\n"
          ]
        }
      ]
    },
    {
      "cell_type": "code",
      "source": [
        "if 'card' not in pocket:\n",
        "    print(\"걸어 가라\")\n",
        "else:\n",
        "    print(\"버스를 타고 가라\")"
      ],
      "metadata": {
        "colab": {
          "base_uri": "https://localhost:8080/"
        },
        "id": "jUE3SHA6KOyI",
        "outputId": "5c497145-147b-424f-e9cf-21b8208280c9"
      },
      "execution_count": 16,
      "outputs": [
        {
          "output_type": "stream",
          "name": "stdout",
          "text": [
            "버스를 타고 가라\n"
          ]
        }
      ]
    },
    {
      "cell_type": "markdown",
      "source": [
        "점프투파이썬 - 조건문에서 아무 일도 하지 않게 설정하고 싶다면?\n",
        "// \"주머니에 돈이 있으면 가만히 있고 주머니에 돈이 없으면 카드를 꺼내라.\""
      ],
      "metadata": {
        "id": "4Uz6J-hhKorX"
      }
    },
    {
      "cell_type": "code",
      "source": [
        "pocket = ['paper','money','cellphone']\n",
        "if 'money' in pocket:\n",
        "    pass\n",
        "else:\n",
        "    print(\"카드를 꺼내라\")"
      ],
      "metadata": {
        "id": "9suEoTgtKjNL"
      },
      "execution_count": 17,
      "outputs": []
    },
    {
      "cell_type": "markdown",
      "source": [
        "pocket 리스트 안에 money 문자열이 있기 때문에 if문 다음 문장인 pass가 수행되고 아무 결괏값도 보여 주지 않는다."
      ],
      "metadata": {
        "id": "DcDydH75LIZh"
      }
    },
    {
      "cell_type": "markdown",
      "source": [
        "다양한 조건을 판단하는 elif // \"주머니에 돈이 있으면 택시를 타고, 주머니에 돈은 없지만 카드가 있으면 택시를 타고, 돈도 없고 카드도 없으면 걸어 가라.\""
      ],
      "metadata": {
        "id": "60fEXMlnLWUS"
      }
    },
    {
      "cell_type": "markdown",
      "source": [
        "조건 1) if와 else만으로 만드는 경우"
      ],
      "metadata": {
        "id": "HGBJbNmHLo6V"
      }
    },
    {
      "cell_type": "code",
      "source": [
        "pocket = ['paper','cellphone']\n",
        "card = True\n",
        "if 'money' in pocket:\n",
        "    print(\"택시를 타고 가라\")\n",
        "else:\n",
        "    if card:\n",
        "        print(\"택시를 타고 가라\")\n",
        "    else:\n",
        "        print(\"걸어 가라\")"
      ],
      "metadata": {
        "colab": {
          "base_uri": "https://localhost:8080/"
        },
        "id": "qL-i-VExLFwO",
        "outputId": "6f9b9a56-26ec-4131-89ef-7e274820dd98"
      },
      "execution_count": 18,
      "outputs": [
        {
          "output_type": "stream",
          "name": "stdout",
          "text": [
            "택시를 타고 가라\n"
          ]
        }
      ]
    },
    {
      "cell_type": "markdown",
      "source": [
        "elif는 다중조건판단이 가능한 문장이다."
      ],
      "metadata": {
        "id": "9q_yjXRpMe5V"
      }
    },
    {
      "cell_type": "code",
      "source": [
        "pocket = ['money','cellphone']\n",
        "card = True\n",
        "if 'mnoney' in pocket:\n",
        "    print(\"택시를 타고 가라\")\n",
        "elif card:\n",
        "    print(\"택시를 타고 가라\")\n",
        "else:\n",
        "    print(\"걸어 가라\")"
      ],
      "metadata": {
        "colab": {
          "base_uri": "https://localhost:8080/"
        },
        "id": "ZxrA44rsMc57",
        "outputId": "8b5a90f9-b5bb-4574-ac9b-7c696bf7c055"
      },
      "execution_count": 19,
      "outputs": [
        {
          "output_type": "stream",
          "name": "stdout",
          "text": [
            "택시를 타고 가라\n"
          ]
        }
      ]
    },
    {
      "cell_type": "markdown",
      "source": [
        "elif는 if 조건문 이후로 갯수의 제한 없이 사용할 수 있다. \n",
        "// if조건문 -> elif 조건문 (갯수 제한 없음) -> else 조건문"
      ],
      "metadata": {
        "id": "t3h74L0PNBfr"
      }
    },
    {
      "cell_type": "markdown",
      "source": [
        "점프투파이썬 : if문을 한 줄로 작성하기"
      ],
      "metadata": {
        "id": "cpiyB5ocNX8k"
      }
    },
    {
      "cell_type": "code",
      "source": [
        "if 'money' in pocket:\n",
        "    pass\n",
        "else:\n",
        "    print(\"카드를 꺼내라\")"
      ],
      "metadata": {
        "id": "A57oGtfIM_Uv"
      },
      "execution_count": 20,
      "outputs": []
    },
    {
      "cell_type": "code",
      "source": [
        "pocket = ['paper','money','cellphone']\n",
        "if 'money' in pocket: pass\n",
        "else: print(\"카드를 꺼내라\")"
      ],
      "metadata": {
        "id": "GCVIaS-3NoBc"
      },
      "execution_count": 21,
      "outputs": []
    },
    {
      "cell_type": "code",
      "source": [
        "score = 80\n",
        "if score >= 60:\n",
        "    message = \"success\"\n",
        "else:\n",
        "    message = \"failure\""
      ],
      "metadata": {
        "id": "6kFIycgHN2zr"
      },
      "execution_count": 24,
      "outputs": []
    },
    {
      "cell_type": "code",
      "source": [
        "message = \"success\" if score >= 60 else \"failure\""
      ],
      "metadata": {
        "id": "X_RkCTaoOEof"
      },
      "execution_count": 25,
      "outputs": []
    },
    {
      "cell_type": "markdown",
      "source": [
        "조건부 표현식 : 조건문이 참인 경우 if 조건문 else 조건문이 거짓인 경우"
      ],
      "metadata": {
        "id": "8js8Krb7OUiu"
      }
    },
    {
      "cell_type": "code",
      "source": [
        ""
      ],
      "metadata": {
        "id": "VAVX3LWFOR9E"
      },
      "execution_count": null,
      "outputs": []
    }
  ]
}