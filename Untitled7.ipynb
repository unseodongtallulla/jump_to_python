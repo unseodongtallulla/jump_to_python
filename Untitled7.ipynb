{
  "nbformat": 4,
  "nbformat_minor": 0,
  "metadata": {
    "colab": {
      "name": "Untitled7.ipynb",
      "provenance": [],
      "authorship_tag": "ABX9TyNg9fPL2ErkYBCzLND+EpVN",
      "include_colab_link": true
    },
    "kernelspec": {
      "name": "python3",
      "display_name": "Python 3"
    },
    "language_info": {
      "name": "python"
    }
  },
  "cells": [
    {
      "cell_type": "markdown",
      "metadata": {
        "id": "view-in-github",
        "colab_type": "text"
      },
      "source": [
        "<a href=\"https://colab.research.google.com/github/unseodongtallulla/jump_to_python/blob/main/Untitled7.ipynb\" target=\"_parent\"><img src=\"https://colab.research.google.com/assets/colab-badge.svg\" alt=\"Open In Colab\"/></a>"
      ]
    },
    {
      "cell_type": "markdown",
      "source": [
        "6일차 학습 - 03-1. if문"
      ],
      "metadata": {
        "id": "GGBj_MQbFnb5"
      }
    },
    {
      "cell_type": "code",
      "execution_count": null,
      "metadata": {
        "colab": {
          "base_uri": "https://localhost:8080/"
        },
        "id": "YHrZSC2YFlaN",
        "outputId": "b4d96dba-6493-4064-8b29-c5fe520f9909"
      },
      "outputs": [
        {
          "output_type": "stream",
          "name": "stdout",
          "text": [
            "택시를 타고 가라\n"
          ]
        }
      ],
      "source": [
        "money = True\n",
        "if money:\n",
        "  print(\"택시를 타고 가라\")\n",
        "else:\n",
        "  print(\"걸어 가라\")  "
      ]
    },
    {
      "cell_type": "markdown",
      "source": [
        "if문의 기본 구조 // if 조건문: 수행할 문장1 //수행할 문장2 /else: // 수행할 문장1 // 수행할 문장2"
      ],
      "metadata": {
        "id": "FFDmBto5GCsF"
      }
    },
    {
      "cell_type": "code",
      "source": [
        "x = 3\n",
        "y = 2\n",
        "x > y"
      ],
      "metadata": {
        "colab": {
          "base_uri": "https://localhost:8080/"
        },
        "id": "JGgA_dRlF66q",
        "outputId": "c9953972-846c-4966-8d3e-fbdd75ac7edf"
      },
      "execution_count": null,
      "outputs": [
        {
          "output_type": "execute_result",
          "data": {
            "text/plain": [
              "True"
            ]
          },
          "metadata": {},
          "execution_count": 2
        }
      ]
    },
    {
      "cell_type": "code",
      "source": [
        "x < y"
      ],
      "metadata": {
        "colab": {
          "base_uri": "https://localhost:8080/"
        },
        "id": "-sxpvQuUGslS",
        "outputId": "4d0ff828-11f2-4dd7-aa36-0e2456e580c0"
      },
      "execution_count": null,
      "outputs": [
        {
          "output_type": "execute_result",
          "data": {
            "text/plain": [
              "False"
            ]
          },
          "metadata": {},
          "execution_count": 3
        }
      ]
    },
    {
      "cell_type": "code",
      "source": [
        "x == y"
      ],
      "metadata": {
        "colab": {
          "base_uri": "https://localhost:8080/"
        },
        "id": "qftK-4LzGvEY",
        "outputId": "7ccd26ec-e0d3-41cc-fbfe-a26f97a88033"
      },
      "execution_count": null,
      "outputs": [
        {
          "output_type": "execute_result",
          "data": {
            "text/plain": [
              "False"
            ]
          },
          "metadata": {},
          "execution_count": 4
        }
      ]
    },
    {
      "cell_type": "markdown",
      "source": [
        "깜짝 퀴즈 - 만약 3000원 이상의 돈을 가지고 있으면 택시를 타고 그렇지 않으면 걸어 가라."
      ],
      "metadata": {
        "id": "G1Z9ClexG0At"
      }
    },
    {
      "cell_type": "code",
      "source": [
        "money = 2000\n",
        "if money >= 3000:\n",
        "    print(\"택시를 타고 가라\")\n",
        "else:\n",
        "    print(\"걸어 가라\")"
      ],
      "metadata": {
        "colab": {
          "base_uri": "https://localhost:8080/"
        },
        "id": "2V_uTzj2GxIe",
        "outputId": "b30e41d3-b885-4d8a-a377-d63c75beebe7"
      },
      "execution_count": null,
      "outputs": [
        {
          "output_type": "stream",
          "name": "stdout",
          "text": [
            "걸어 가라\n"
          ]
        }
      ]
    },
    {
      "cell_type": "markdown",
      "source": [
        "연산자 : 1. x or y // x와 y 둘 중에 하나만 참이어도 참이다. /// 2. x and y // x와 y 모두 참이어야 참이다. /// 3. not x // x가 거짓이면 참이다."
      ],
      "metadata": {
        "id": "0DDQ2vCiHVeA"
      }
    },
    {
      "cell_type": "markdown",
      "source": [
        "깜짝 퀴즈 : 돈이 3000원 이상 있거나 카드가 있다면 택시를 타고 그렇지 않으면 걸어 가라."
      ],
      "metadata": {
        "id": "HMiuRRpCHp5S"
      }
    },
    {
      "cell_type": "code",
      "source": [
        "money = 2000\n",
        "card = True\n",
        "if money >= 3000 or card:\n",
        "    print(\"택시를 타고 가라\")\n",
        "else:\n",
        "    print(\"걸어 가라\")"
      ],
      "metadata": {
        "colab": {
          "base_uri": "https://localhost:8080/"
        },
        "id": "8qQWLE-KHQzv",
        "outputId": "6b9c6100-9a99-4898-a466-0a645ac63591"
      },
      "execution_count": null,
      "outputs": [
        {
          "output_type": "stream",
          "name": "stdout",
          "text": [
            "택시를 타고 가라\n"
          ]
        }
      ]
    },
    {
      "cell_type": "markdown",
      "source": [
        "in - x in 리스트// x in 튜플 // x in 문자열 /// not in - x not in 리스트 // x not in 튜플 // x not in 문자열"
      ],
      "metadata": {
        "id": "_3NUgOQ4IWz9"
      }
    },
    {
      "cell_type": "code",
      "source": [
        "1 in [1,2,3]"
      ],
      "metadata": {
        "colab": {
          "base_uri": "https://localhost:8080/"
        },
        "id": "l0DqlYjQIK2T",
        "outputId": "c093a9d9-6a61-4b0d-bcfe-1d636057f3a7"
      },
      "execution_count": null,
      "outputs": [
        {
          "output_type": "execute_result",
          "data": {
            "text/plain": [
              "True"
            ]
          },
          "metadata": {},
          "execution_count": 8
        }
      ]
    },
    {
      "cell_type": "code",
      "source": [
        "1 not in [1,2,3]"
      ],
      "metadata": {
        "colab": {
          "base_uri": "https://localhost:8080/"
        },
        "id": "lrYv_nevIw0x",
        "outputId": "3ba185d6-1cf8-4d08-f2a1-e23cd0f0082e"
      },
      "execution_count": null,
      "outputs": [
        {
          "output_type": "execute_result",
          "data": {
            "text/plain": [
              "False"
            ]
          },
          "metadata": {},
          "execution_count": 9
        }
      ]
    },
    {
      "cell_type": "code",
      "source": [
        "'a' in ('a','b','c')"
      ],
      "metadata": {
        "colab": {
          "base_uri": "https://localhost:8080/"
        },
        "id": "E0loeS3EIzCZ",
        "outputId": "d1a8e657-0378-4ae2-a737-8f963237639c"
      },
      "execution_count": null,
      "outputs": [
        {
          "output_type": "execute_result",
          "data": {
            "text/plain": [
              "True"
            ]
          },
          "metadata": {},
          "execution_count": 10
        }
      ]
    },
    {
      "cell_type": "code",
      "source": [
        "'j' not in ('a','b','c')"
      ],
      "metadata": {
        "colab": {
          "base_uri": "https://localhost:8080/"
        },
        "id": "uMeCLG-4I4ft",
        "outputId": "4cd3b176-cb34-4f1b-db4d-a3aef2eb4929"
      },
      "execution_count": null,
      "outputs": [
        {
          "output_type": "execute_result",
          "data": {
            "text/plain": [
              "True"
            ]
          },
          "metadata": {},
          "execution_count": 11
        }
      ]
    },
    {
      "cell_type": "markdown",
      "source": [
        "깜짝 퀴즈 : 만약 주머니에 돈이 있으면 택시를 타고, 없으면 걸어 가라."
      ],
      "metadata": {
        "id": "iqhd0_lQI_lQ"
      }
    },
    {
      "cell_type": "code",
      "source": [
        "pocket = ['paper','cellphone','money']\n",
        "if 'money' in pocket:\n",
        "    print(\"택시를 타고 가라\")\n",
        "else:\n",
        "    print(\"걸어 가라\")"
      ],
      "metadata": {
        "colab": {
          "base_uri": "https://localhost:8080/"
        },
        "id": "RZ7r4LgmI932",
        "outputId": "0bf876cd-0290-4d57-a1fb-93ae465c9250"
      },
      "execution_count": null,
      "outputs": [
        {
          "output_type": "stream",
          "name": "stdout",
          "text": [
            "택시를 타고 가라\n"
          ]
        }
      ]
    },
    {
      "cell_type": "markdown",
      "source": [
        "나혼자 코딩 : '주머니에 카드가 없다면 걸어가고, 있다면 버스를 타고 가라'는 문장을 조건문으로 만들어 보자."
      ],
      "metadata": {
        "id": "44xaq5teJ251"
      }
    },
    {
      "cell_type": "code",
      "source": [
        "pocket = ['card', 'money', 'cellphone']\n",
        "if 'card' in pocket:\n",
        "    print(\"버스를 타고 가라\")\n",
        "else:\n",
        "    print(\"걸어 가라\")"
      ],
      "metadata": {
        "colab": {
          "base_uri": "https://localhost:8080/"
        },
        "id": "VboVRUjPJp8n",
        "outputId": "a09cf3e6-0f10-4ae9-c83e-09236efc2cfc"
      },
      "execution_count": null,
      "outputs": [
        {
          "output_type": "stream",
          "name": "stdout",
          "text": [
            "버스를 타고 가라\n"
          ]
        }
      ]
    },
    {
      "cell_type": "code",
      "source": [
        "if 'card' not in pocket:\n",
        "    print(\"걸어 가라\")\n",
        "else:\n",
        "    print(\"버스를 타고 가라\")"
      ],
      "metadata": {
        "colab": {
          "base_uri": "https://localhost:8080/"
        },
        "id": "jUE3SHA6KOyI",
        "outputId": "5c497145-147b-424f-e9cf-21b8208280c9"
      },
      "execution_count": null,
      "outputs": [
        {
          "output_type": "stream",
          "name": "stdout",
          "text": [
            "버스를 타고 가라\n"
          ]
        }
      ]
    },
    {
      "cell_type": "markdown",
      "source": [
        "점프투파이썬 - 조건문에서 아무 일도 하지 않게 설정하고 싶다면?\n",
        "// \"주머니에 돈이 있으면 가만히 있고 주머니에 돈이 없으면 카드를 꺼내라.\""
      ],
      "metadata": {
        "id": "4Uz6J-hhKorX"
      }
    },
    {
      "cell_type": "code",
      "source": [
        "pocket = ['paper','money','cellphone']\n",
        "if 'money' in pocket:\n",
        "    pass\n",
        "else:\n",
        "    print(\"카드를 꺼내라\")"
      ],
      "metadata": {
        "id": "9suEoTgtKjNL"
      },
      "execution_count": null,
      "outputs": []
    },
    {
      "cell_type": "markdown",
      "source": [
        "pocket 리스트 안에 money 문자열이 있기 때문에 if문 다음 문장인 pass가 수행되고 아무 결괏값도 보여 주지 않는다."
      ],
      "metadata": {
        "id": "DcDydH75LIZh"
      }
    },
    {
      "cell_type": "markdown",
      "source": [
        "다양한 조건을 판단하는 elif // \"주머니에 돈이 있으면 택시를 타고, 주머니에 돈은 없지만 카드가 있으면 택시를 타고, 돈도 없고 카드도 없으면 걸어 가라.\""
      ],
      "metadata": {
        "id": "60fEXMlnLWUS"
      }
    },
    {
      "cell_type": "markdown",
      "source": [
        "조건 1) if와 else만으로 만드는 경우"
      ],
      "metadata": {
        "id": "HGBJbNmHLo6V"
      }
    },
    {
      "cell_type": "code",
      "source": [
        "pocket = ['paper','cellphone']\n",
        "card = True\n",
        "if 'money' in pocket:\n",
        "    print(\"택시를 타고 가라\")\n",
        "else:\n",
        "    if card:\n",
        "        print(\"택시를 타고 가라\")\n",
        "    else:\n",
        "        print(\"걸어 가라\")"
      ],
      "metadata": {
        "colab": {
          "base_uri": "https://localhost:8080/"
        },
        "id": "qL-i-VExLFwO",
        "outputId": "6f9b9a56-26ec-4131-89ef-7e274820dd98"
      },
      "execution_count": null,
      "outputs": [
        {
          "output_type": "stream",
          "name": "stdout",
          "text": [
            "택시를 타고 가라\n"
          ]
        }
      ]
    },
    {
      "cell_type": "markdown",
      "source": [
        "elif는 다중조건판단이 가능한 문장이다."
      ],
      "metadata": {
        "id": "9q_yjXRpMe5V"
      }
    },
    {
      "cell_type": "code",
      "source": [
        "pocket = ['money','cellphone']\n",
        "card = True\n",
        "if 'mnoney' in pocket:\n",
        "    print(\"택시를 타고 가라\")\n",
        "elif card:\n",
        "    print(\"택시를 타고 가라\")\n",
        "else:\n",
        "    print(\"걸어 가라\")"
      ],
      "metadata": {
        "colab": {
          "base_uri": "https://localhost:8080/"
        },
        "id": "ZxrA44rsMc57",
        "outputId": "8b5a90f9-b5bb-4574-ac9b-7c696bf7c055"
      },
      "execution_count": null,
      "outputs": [
        {
          "output_type": "stream",
          "name": "stdout",
          "text": [
            "택시를 타고 가라\n"
          ]
        }
      ]
    },
    {
      "cell_type": "markdown",
      "source": [
        "elif는 if 조건문 이후로 갯수의 제한 없이 사용할 수 있다. \n",
        "// if조건문 -> elif 조건문 (갯수 제한 없음) -> else 조건문"
      ],
      "metadata": {
        "id": "t3h74L0PNBfr"
      }
    },
    {
      "cell_type": "markdown",
      "source": [
        "점프투파이썬 : if문을 한 줄로 작성하기"
      ],
      "metadata": {
        "id": "cpiyB5ocNX8k"
      }
    },
    {
      "cell_type": "code",
      "source": [
        "if 'money' in pocket:\n",
        "    pass\n",
        "else:\n",
        "    print(\"카드를 꺼내라\")"
      ],
      "metadata": {
        "id": "A57oGtfIM_Uv"
      },
      "execution_count": null,
      "outputs": []
    },
    {
      "cell_type": "code",
      "source": [
        "pocket = ['paper','money','cellphone']\n",
        "if 'money' in pocket: pass\n",
        "else: print(\"카드를 꺼내라\")"
      ],
      "metadata": {
        "id": "GCVIaS-3NoBc"
      },
      "execution_count": null,
      "outputs": []
    },
    {
      "cell_type": "code",
      "source": [
        "score = 80\n",
        "if score >= 60:\n",
        "    message = \"success\"\n",
        "else:\n",
        "    message = \"failure\""
      ],
      "metadata": {
        "id": "6kFIycgHN2zr"
      },
      "execution_count": null,
      "outputs": []
    },
    {
      "cell_type": "code",
      "source": [
        "message = \"success\" if score >= 60 else \"failure\""
      ],
      "metadata": {
        "id": "X_RkCTaoOEof"
      },
      "execution_count": null,
      "outputs": []
    },
    {
      "cell_type": "markdown",
      "source": [
        "조건부 표현식 : 조건문이 참인 경우 if 조건문 else 조건문이 거짓인 경우"
      ],
      "metadata": {
        "id": "8js8Krb7OUiu"
      }
    },
    {
      "cell_type": "markdown",
      "source": [
        "03-2. while문"
      ],
      "metadata": {
        "id": "ptjMbY1Xz2H3"
      }
    },
    {
      "cell_type": "markdown",
      "source": [
        "'열 번 찍어 안 넘어가는 나무 없다.'를 파이썬 프로그램으로 만들기"
      ],
      "metadata": {
        "id": "By9s6D4Iz5oo"
      }
    },
    {
      "cell_type": "code",
      "source": [
        "treeHit = 0\n",
        "while treeHit < 10:\n",
        "    treeHit = treeHit + 1\n",
        "    print(\"나무를 %d번 찍었습니다\" % treeHit)\n",
        "    if treeHit == 10:\n",
        "        print(\"나무 넘어갑니다.\")"
      ],
      "metadata": {
        "id": "VAVX3LWFOR9E",
        "colab": {
          "base_uri": "https://localhost:8080/"
        },
        "outputId": "3fd853f9-3c5e-4a6e-d58a-a9e9a2e5e9d4"
      },
      "execution_count": 1,
      "outputs": [
        {
          "output_type": "stream",
          "name": "stdout",
          "text": [
            "나무를 1번 찍었습니다\n",
            "나무를 2번 찍었습니다\n",
            "나무를 3번 찍었습니다\n",
            "나무를 4번 찍었습니다\n",
            "나무를 5번 찍었습니다\n",
            "나무를 6번 찍었습니다\n",
            "나무를 7번 찍었습니다\n",
            "나무를 8번 찍었습니다\n",
            "나무를 9번 찍었습니다\n",
            "나무를 10번 찍었습니다\n",
            "나무 넘어갑니다.\n"
          ]
        }
      ]
    },
    {
      "cell_type": "markdown",
      "source": [
        "while문 만들기"
      ],
      "metadata": {
        "id": "RgTkMoSD0oaC"
      }
    },
    {
      "cell_type": "code",
      "source": [
        "prompt = \"\"\"\n",
        "1. Add\n",
        "2. Del\n",
        "3. List\n",
        "4. Quit\n",
        "\n",
        "Enter number: \"\"\""
      ],
      "metadata": {
        "id": "saStJIyZ0hl9"
      },
      "execution_count": 3,
      "outputs": []
    },
    {
      "cell_type": "code",
      "source": [
        "number = 0\n",
        "while number!= 4:\n",
        "    print(prompt)\n",
        "    number = int(input())\n",
        "\n",
        "1. Add\n",
        "2. Del\n",
        "3. List\n",
        "4. Quit\n",
        "\n",
        "Enter number:\n",
        "1\n",
        "\n",
        "1. Add\n",
        "2. Del\n",
        "3. List\n",
        "4. Quit"
      ],
      "metadata": {
        "colab": {
          "base_uri": "https://localhost:8080/",
          "height": 137
        },
        "id": "xbHhIXus1EDM",
        "outputId": "1c7dbb51-867c-40ce-848d-19e2e68d4adf"
      },
      "execution_count": 8,
      "outputs": [
        {
          "output_type": "error",
          "ename": "SyntaxError",
          "evalue": "ignored",
          "traceback": [
            "\u001b[0;36m  File \u001b[0;32m\"<ipython-input-8-c3cf646401b0>\"\u001b[0;36m, line \u001b[0;32m6\u001b[0m\n\u001b[0;31m    1. Add\u001b[0m\n\u001b[0m         ^\u001b[0m\n\u001b[0;31mSyntaxError\u001b[0m\u001b[0;31m:\u001b[0m invalid syntax\n"
          ]
        }
      ]
    },
    {
      "cell_type": "code",
      "source": [
        "coffee = 10\n",
        "money = 300\n",
        "while money:\n",
        "    print(\"돈을 받았으니 커피를 줍니다\")\n",
        "    coffee = coffee - 1\n",
        "    print(\"남은 커피의 양은 %d개 입니다.\" %coffee)\n",
        "    if coffee == 0:\n",
        "        print(\"커피가 다 떨어졌습니다. 판매를 중지합니다.\")\n",
        "        break"
      ],
      "metadata": {
        "colab": {
          "base_uri": "https://localhost:8080/"
        },
        "id": "VXSRbpW_1rHq",
        "outputId": "54bbbb01-3526-4947-e139-d4e5d5b92873"
      },
      "execution_count": 9,
      "outputs": [
        {
          "output_type": "stream",
          "name": "stdout",
          "text": [
            "돈을 받았으니 커피를 줍니다\n",
            "남은 커피의 양은 9개 입니다.\n",
            "돈을 받았으니 커피를 줍니다\n",
            "남은 커피의 양은 8개 입니다.\n",
            "돈을 받았으니 커피를 줍니다\n",
            "남은 커피의 양은 7개 입니다.\n",
            "돈을 받았으니 커피를 줍니다\n",
            "남은 커피의 양은 6개 입니다.\n",
            "돈을 받았으니 커피를 줍니다\n",
            "남은 커피의 양은 5개 입니다.\n",
            "돈을 받았으니 커피를 줍니다\n",
            "남은 커피의 양은 4개 입니다.\n",
            "돈을 받았으니 커피를 줍니다\n",
            "남은 커피의 양은 3개 입니다.\n",
            "돈을 받았으니 커피를 줍니다\n",
            "남은 커피의 양은 2개 입니다.\n",
            "돈을 받았으니 커피를 줍니다\n",
            "남은 커피의 양은 1개 입니다.\n",
            "돈을 받았으니 커피를 줍니다\n",
            "남은 커피의 양은 0개 입니다.\n",
            "커피가 다 떨어졌습니다. 판매를 중지합니다.\n"
          ]
        }
      ]
    },
    {
      "cell_type": "code",
      "source": [
        "coffee = 10\n",
        "while True:\n",
        "    money = int(input(\"돈을 넣어 주세요: \"))\n",
        "    if money == 300:\n",
        "        print(\"커피를 줍니다.\")\n",
        "        coffee = coffee - 1\n",
        "    elif money > 300:\n",
        "        print(\"거스름돈 %d를 주고 커피를 줍니다.\" %(money - 300))\n",
        "        coffee = coffee - 1\n",
        "    else:\n",
        "        print(\"돈을 다시 돌려주고 커피를 주지 않습니다.\")\n",
        "        print(\"남은 커피의 양은 %d개 입니다.\" % coffee)\n",
        "    if coffee == 0:\n",
        "        print(\"커피가 다 떨어졌습니다. 판매를 중지합니다.\")\n",
        "        break        "
      ],
      "metadata": {
        "colab": {
          "base_uri": "https://localhost:8080/"
        },
        "id": "KcjrieIE3AtA",
        "outputId": "df786f1f-d251-42df-86ea-e73e1fdfb87e"
      },
      "execution_count": 12,
      "outputs": [
        {
          "output_type": "stream",
          "name": "stdout",
          "text": [
            "돈을 넣어 주세요: 300\n",
            "커피를 줍니다.\n",
            "돈을 넣어 주세요: 300\n",
            "커피를 줍니다.\n",
            "돈을 넣어 주세요: 300\n",
            "커피를 줍니다.\n",
            "돈을 넣어 주세요: 300\n",
            "커피를 줍니다.\n",
            "돈을 넣어 주세요: 300\n",
            "커피를 줍니다.\n",
            "돈을 넣어 주세요: 3000\n",
            "거스름돈 2700를 주고 커피를 줍니다.\n",
            "돈을 넣어 주세요: 3000\n",
            "거스름돈 2700를 주고 커피를 줍니다.\n",
            "돈을 넣어 주세요: 3000\n",
            "거스름돈 2700를 주고 커피를 줍니다.\n",
            "돈을 넣어 주세요: 500\n",
            "거스름돈 200를 주고 커피를 줍니다.\n",
            "돈을 넣어 주세요: 2000\n",
            "거스름돈 1700를 주고 커피를 줍니다.\n",
            "커피가 다 떨어졌습니다. 판매를 중지합니다.\n"
          ]
        }
      ]
    },
    {
      "cell_type": "markdown",
      "source": [
        "while문의 맨 처음으로 돌아가기"
      ],
      "metadata": {
        "id": "yqmnDk2V4yZo"
      }
    },
    {
      "cell_type": "markdown",
      "source": [
        "1부터 10까지 숫자 중 홀수만 출력하는 것을 while문으로 만들어 보기"
      ],
      "metadata": {
        "id": "Dv_UBw3o48qE"
      }
    },
    {
      "cell_type": "code",
      "source": [
        "a = 0\n",
        "while a < 10:\n",
        "    a = a + 1\n",
        "    if a % 2 == 0: continue\n",
        "    print(a)"
      ],
      "metadata": {
        "colab": {
          "base_uri": "https://localhost:8080/"
        },
        "id": "GRLmRCs34Q4L",
        "outputId": "89aca32a-d7b5-4696-955e-84678690254d"
      },
      "execution_count": 13,
      "outputs": [
        {
          "output_type": "stream",
          "name": "stdout",
          "text": [
            "1\n",
            "3\n",
            "5\n",
            "7\n",
            "9\n"
          ]
        }
      ]
    },
    {
      "cell_type": "markdown",
      "source": [
        "나혼자 코딩 : 1부터 10까지의 숫자 중에서 3의 배수를 뺀 나머지 값을 출력해 보자."
      ],
      "metadata": {
        "id": "HvPgGIK05bra"
      }
    },
    {
      "cell_type": "code",
      "source": [
        "a = 0\n",
        "while a < 10:\n",
        "    a = a + 1\n",
        "    if a % 3 == 0: continue\n",
        "    print(a)"
      ],
      "metadata": {
        "colab": {
          "base_uri": "https://localhost:8080/"
        },
        "id": "Il_cpV4y5R4d",
        "outputId": "04beb57b-3794-47a6-aa39-8700d88a3ad8"
      },
      "execution_count": 16,
      "outputs": [
        {
          "output_type": "stream",
          "name": "stdout",
          "text": [
            "1\n",
            "2\n",
            "4\n",
            "5\n",
            "7\n",
            "8\n",
            "10\n"
          ]
        }
      ]
    },
    {
      "cell_type": "markdown",
      "source": [
        "무한루프"
      ],
      "metadata": {
        "id": "oCKztBfG6QPr"
      }
    },
    {
      "cell_type": "markdown",
      "source": [
        "03-3. for문"
      ],
      "metadata": {
        "id": "t9XKYVPf7ykh"
      }
    },
    {
      "cell_type": "markdown",
      "source": [
        "for문의 기본 구조\n",
        "// for 변수 in 리스트(또는 튜플, 문자열) // 수행할 문장1 / 수행할 문장2"
      ],
      "metadata": {
        "id": "NL4lo1kB73Ra"
      }
    },
    {
      "cell_type": "markdown",
      "source": [
        "1. 전형적인 for문"
      ],
      "metadata": {
        "id": "-sk2wiLV8E1y"
      }
    },
    {
      "cell_type": "code",
      "source": [
        "test_list = ['one', 'two', 'three']\n",
        "for i in test_list:\n",
        "    print(i)"
      ],
      "metadata": {
        "colab": {
          "base_uri": "https://localhost:8080/"
        },
        "id": "SmWlulCD8I8C",
        "outputId": "848df4fb-4aba-4484-8b84-e9ce5ae46688"
      },
      "execution_count": 18,
      "outputs": [
        {
          "output_type": "stream",
          "name": "stdout",
          "text": [
            "one\n",
            "two\n",
            "three\n"
          ]
        }
      ]
    },
    {
      "cell_type": "markdown",
      "source": [
        "2. 다양한 for문의 사용"
      ],
      "metadata": {
        "id": "h8xrs7EO8bv7"
      }
    },
    {
      "cell_type": "code",
      "source": [
        "a = [(1,2), (3,4), (5,6)]\n",
        "for (first, last) in a:\n",
        "    print(first + last)"
      ],
      "metadata": {
        "colab": {
          "base_uri": "https://localhost:8080/"
        },
        "id": "jhLMPALZ8Xzg",
        "outputId": "ae1e92c1-76df-45d8-8374-cccfd623476e"
      },
      "execution_count": 19,
      "outputs": [
        {
          "output_type": "stream",
          "name": "stdout",
          "text": [
            "3\n",
            "7\n",
            "11\n"
          ]
        }
      ]
    },
    {
      "cell_type": "markdown",
      "source": [
        "3. for문의 응용"
      ],
      "metadata": {
        "id": "_Yqx6lV68ydz"
      }
    },
    {
      "cell_type": "markdown",
      "source": [
        "예제 : 총 5명의 학생이 시험을 봤다. 시험점수가 60점을 넘으면 합격, 그렇지 않으면 불합격이다. 합격 또는 불합격 결과를 보여주시오.\n",
        "점수 : 90, 25, 67, 45, 80"
      ],
      "metadata": {
        "id": "aVhJ7nHQ81ZY"
      }
    },
    {
      "cell_type": "code",
      "source": [
        "marks = [90, 25, 67, 45, 80]\n",
        "number = 0\n",
        "for mark in marks:\n",
        "    number = number + 1\n",
        "    if mark >= 60:\n",
        "        print(\"%d번 학생은 합격입니다.\" % number)\n",
        "    else:\n",
        "        print(\"%d번 학생은 불합격입니다.\" % number)"
      ],
      "metadata": {
        "colab": {
          "base_uri": "https://localhost:8080/"
        },
        "id": "BbEhtFGo8rIa",
        "outputId": "a6059509-e6cc-46e0-bb3a-209de605912d"
      },
      "execution_count": 20,
      "outputs": [
        {
          "output_type": "stream",
          "name": "stdout",
          "text": [
            "1번 학생은 합격입니다.\n",
            "2번 학생은 불합격입니다.\n",
            "3번 학생은 합격입니다.\n",
            "4번 학생은 불합격입니다.\n",
            "5번 학생은 합격입니다.\n"
          ]
        }
      ]
    },
    {
      "cell_type": "code",
      "source": [
        "marks = [90, 25, 67, 45, 80]\n",
        "number = 0\n",
        "for mark in marks:\n",
        "    number = number + 1\n",
        "    if mark < 60: continue\n",
        "    print(\"%d번 학생 축하합니다. 합격입니다.\" % number)"
      ],
      "metadata": {
        "colab": {
          "base_uri": "https://localhost:8080/"
        },
        "id": "r2S8Hunr92Dm",
        "outputId": "80fe6030-dbd8-4dac-fbfa-36a4d39aa0e5"
      },
      "execution_count": 21,
      "outputs": [
        {
          "output_type": "stream",
          "name": "stdout",
          "text": [
            "1번 학생 축하합니다. 합격입니다.\n",
            "3번 학생 축하합니다. 합격입니다.\n",
            "5번 학생 축하합니다. 합격입니다.\n"
          ]
        }
      ]
    },
    {
      "cell_type": "markdown",
      "source": [
        "for문과 함께 자주 사용하는 range함수"
      ],
      "metadata": {
        "id": "3GBu5Z5E-hZJ"
      }
    },
    {
      "cell_type": "code",
      "source": [
        "a = range(10)\n",
        "a"
      ],
      "metadata": {
        "colab": {
          "base_uri": "https://localhost:8080/"
        },
        "id": "_eYWGudq-aEs",
        "outputId": "167721c4-7dbd-45f8-8624-21ebbdeb54f6"
      },
      "execution_count": 22,
      "outputs": [
        {
          "output_type": "execute_result",
          "data": {
            "text/plain": [
              "range(0, 10)"
            ]
          },
          "metadata": {},
          "execution_count": 22
        }
      ]
    },
    {
      "cell_type": "code",
      "source": [
        "a = range(1,11)\n",
        "a"
      ],
      "metadata": {
        "colab": {
          "base_uri": "https://localhost:8080/"
        },
        "id": "EiQrmx6s-nDe",
        "outputId": "2cc10218-295d-4eb9-9c39-7bf1c30a9716"
      },
      "execution_count": 24,
      "outputs": [
        {
          "output_type": "execute_result",
          "data": {
            "text/plain": [
              "range(1, 11)"
            ]
          },
          "metadata": {},
          "execution_count": 24
        }
      ]
    },
    {
      "cell_type": "code",
      "source": [
        "add = 0\n",
        "for i in range(1,11):\n",
        "    add = add + i\n",
        "\n",
        "print(add)"
      ],
      "metadata": {
        "colab": {
          "base_uri": "https://localhost:8080/"
        },
        "id": "9UCy7OVi-s3s",
        "outputId": "d2fdeec5-1cb5-45e6-c2f9-146994d9285d"
      },
      "execution_count": 26,
      "outputs": [
        {
          "output_type": "stream",
          "name": "stdout",
          "text": [
            "55\n"
          ]
        }
      ]
    },
    {
      "cell_type": "code",
      "source": [
        "marks = [90, 25, 67, 45, 80]\n",
        "for number in range(len(marks)):\n",
        "    if marks[number] < 60: continue\n",
        "    print(\"%d번 학생 축하합니다. 합격입니다.\" % (number+1))"
      ],
      "metadata": {
        "colab": {
          "base_uri": "https://localhost:8080/"
        },
        "id": "QXcDMVMF_Wej",
        "outputId": "99965113-9308-45b5-df2e-26eb7b507355"
      },
      "execution_count": 27,
      "outputs": [
        {
          "output_type": "stream",
          "name": "stdout",
          "text": [
            "1번 학생 축하합니다. 합격입니다.\n",
            "3번 학생 축하합니다. 합격입니다.\n",
            "5번 학생 축하합니다. 합격입니다.\n"
          ]
        }
      ]
    },
    {
      "cell_type": "markdown",
      "source": [
        "나혼자코딩 : for문과 range함수를 사용하여 1부터 100까지 더해 보자."
      ],
      "metadata": {
        "id": "SSqNQ8TXAJkI"
      }
    },
    {
      "cell_type": "code",
      "source": [
        "add = 0\n",
        "for i in range(1,101):\n",
        "    add = add + i\n",
        "\n",
        "print(add)"
      ],
      "metadata": {
        "colab": {
          "base_uri": "https://localhost:8080/"
        },
        "id": "m6Gj-iilAGtF",
        "outputId": "3601ab0f-90ad-4c5b-85f7-db66707e75b2"
      },
      "execution_count": 31,
      "outputs": [
        {
          "output_type": "stream",
          "name": "stdout",
          "text": [
            "5050\n"
          ]
        }
      ]
    },
    {
      "cell_type": "markdown",
      "source": [
        "for와 range를 사용한 구구단"
      ],
      "metadata": {
        "id": "bY-VWK9OBoE-"
      }
    },
    {
      "cell_type": "code",
      "source": [
        "for i in range(2,10):\n",
        "    for j in range(1,10):\n",
        "        print(i*j, end=\" \")\n",
        "    print(\" \")"
      ],
      "metadata": {
        "colab": {
          "base_uri": "https://localhost:8080/"
        },
        "id": "Lslc-1m9Acia",
        "outputId": "68441819-7ec7-4d95-86cc-48fe274cb81e"
      },
      "execution_count": 33,
      "outputs": [
        {
          "output_type": "stream",
          "name": "stdout",
          "text": [
            "2 4 6 8 10 12 14 16 18  \n",
            "3 6 9 12 15 18 21 24 27  \n",
            "4 8 12 16 20 24 28 32 36  \n",
            "5 10 15 20 25 30 35 40 45  \n",
            "6 12 18 24 30 36 42 48 54  \n",
            "7 14 21 28 35 42 49 56 63  \n",
            "8 16 24 32 40 48 56 64 72  \n",
            "9 18 27 36 45 54 63 72 81  \n"
          ]
        }
      ]
    },
    {
      "cell_type": "markdown",
      "source": [
        "리스트 내포 사용하기"
      ],
      "metadata": {
        "id": "Vhtzi1KlCzPB"
      }
    },
    {
      "cell_type": "code",
      "source": [
        "a = [1,2,3,4]\n",
        "result = [ ]\n",
        "for num in a:\n",
        "    result.append(num*3)\n",
        "\n",
        "print(result) "
      ],
      "metadata": {
        "colab": {
          "base_uri": "https://localhost:8080/"
        },
        "id": "-tI0qbzpCK2J",
        "outputId": "49709fee-ea52-4bc2-9097-0622bafbe640"
      },
      "execution_count": 34,
      "outputs": [
        {
          "output_type": "stream",
          "name": "stdout",
          "text": [
            "[3, 6, 9, 12]\n"
          ]
        }
      ]
    },
    {
      "cell_type": "code",
      "source": [
        "a = [1,2,3,4]\n",
        "result = [num*3 for num in a]\n",
        "print(result)"
      ],
      "metadata": {
        "colab": {
          "base_uri": "https://localhost:8080/"
        },
        "id": "pTQNOExIDCsZ",
        "outputId": "aff2e65b-ebb9-4367-fe7a-f15cdc0cef92"
      },
      "execution_count": 35,
      "outputs": [
        {
          "output_type": "stream",
          "name": "stdout",
          "text": [
            "[3, 6, 9, 12]\n"
          ]
        }
      ]
    },
    {
      "cell_type": "code",
      "source": [
        "a = [1,2,3,4]\n",
        "result = [num*3 for num in a if num % 2 == 0]\n",
        "print(result)"
      ],
      "metadata": {
        "colab": {
          "base_uri": "https://localhost:8080/"
        },
        "id": "yc1oQE0ODQvl",
        "outputId": "2b0a5a17-5044-43f6-8e3e-fac3686f494a"
      },
      "execution_count": 36,
      "outputs": [
        {
          "output_type": "stream",
          "name": "stdout",
          "text": [
            "[6, 12]\n"
          ]
        }
      ]
    },
    {
      "cell_type": "markdown",
      "source": [
        ""
      ],
      "metadata": {
        "id": "9wxQ-uCGDdYM"
      }
    },
    {
      "cell_type": "code",
      "source": [
        ""
      ],
      "metadata": {
        "id": "sk0SPaG7DbRA"
      },
      "execution_count": null,
      "outputs": []
    }
  ]
}