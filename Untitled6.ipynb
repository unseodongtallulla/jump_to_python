{
  "nbformat": 4,
  "nbformat_minor": 0,
  "metadata": {
    "colab": {
      "name": "Untitled6.ipynb",
      "provenance": [],
      "authorship_tag": "ABX9TyMQQLSmhhwYpnf0Lp8ixBLD",
      "include_colab_link": true
    },
    "kernelspec": {
      "name": "python3",
      "display_name": "Python 3"
    },
    "language_info": {
      "name": "python"
    }
  },
  "cells": [
    {
      "cell_type": "markdown",
      "metadata": {
        "id": "view-in-github",
        "colab_type": "text"
      },
      "source": [
        "<a href=\"https://colab.research.google.com/github/unseodongtallulla/jump_to_python/blob/main/Untitled6.ipynb\" target=\"_parent\"><img src=\"https://colab.research.google.com/assets/colab-badge.svg\" alt=\"Open In Colab\"/></a>"
      ]
    },
    {
      "cell_type": "markdown",
      "source": [
        "5일차 학습 - p.112 연습문제"
      ],
      "metadata": {
        "id": "gQwGemAGbzQd"
      }
    },
    {
      "cell_type": "markdown",
      "source": [
        "문제 1. 홍길동 씨의 과목별 점수(국어:80, 영어:75, 수학:55)이다. 홍길동 씨의 평균 점수를 구해보자."
      ],
      "metadata": {
        "id": "iWVo1Lv-b6rJ"
      }
    },
    {
      "cell_type": "code",
      "execution_count": 4,
      "metadata": {
        "colab": {
          "base_uri": "https://localhost:8080/",
          "height": 137
        },
        "id": "WFI-okWebuKS",
        "outputId": "07ff0144-13a0-4522-8a44-9d09f1713c2b"
      },
      "outputs": [
        {
          "output_type": "error",
          "ename": "SyntaxError",
          "evalue": "ignored",
          "traceback": [
            "\u001b[0;36m  File \u001b[0;32m\"<ipython-input-4-25fcba155565>\"\u001b[0;36m, line \u001b[0;32m1\u001b[0m\n\u001b[0;31m    '국어' = 80\u001b[0m\n\u001b[0m             ^\u001b[0m\n\u001b[0;31mSyntaxError\u001b[0m\u001b[0;31m:\u001b[0m can't assign to literal\n"
          ]
        }
      ],
      "source": [
        "'국어' = 80\n",
        "'영어' = 75\n",
        "'수학' = 55\n",
        "'평균 점수' = ('국어'+'영어'+'수학')/3\n",
        "'평균 점수'"
      ]
    },
    {
      "cell_type": "code",
      "source": [
        "a = 80\n",
        "b = 75\n",
        "c = 55\n",
        "(a+b+c)/3"
      ],
      "metadata": {
        "colab": {
          "base_uri": "https://localhost:8080/"
        },
        "id": "qIp6hXuccpBA",
        "outputId": "ad292057-38da-497a-880f-5de9cf3ea389"
      },
      "execution_count": 5,
      "outputs": [
        {
          "output_type": "execute_result",
          "data": {
            "text/plain": [
              "70.0"
            ]
          },
          "metadata": {},
          "execution_count": 5
        }
      ]
    },
    {
      "cell_type": "markdown",
      "source": [
        "궁금한 점 - '국어'라고 표시한 부분에서 왜 오류가 발생했을까?"
      ],
      "metadata": {
        "id": "2mmpHT0hdS-n"
      }
    },
    {
      "cell_type": "markdown",
      "source": [
        "문제 2. 자연수 13이 홀수인지 짝수인지 판별할 수 있는 방법에 대해 말해 보자."
      ],
      "metadata": {
        "id": "j1c0EvPxddo2"
      }
    },
    {
      "cell_type": "markdown",
      "source": [
        "해설 : 나머지 연산자를 사용하면 자연수의 홀수, 짝수를 판별할 수 있다."
      ],
      "metadata": {
        "id": "VA_5jN6Aes91"
      }
    },
    {
      "cell_type": "code",
      "source": [
        "1 % 2"
      ],
      "metadata": {
        "colab": {
          "base_uri": "https://localhost:8080/"
        },
        "id": "1Jj0oBTqdNvI",
        "outputId": "2052b7f9-685c-4ae6-c013-121bfdbb7158"
      },
      "execution_count": 6,
      "outputs": [
        {
          "output_type": "execute_result",
          "data": {
            "text/plain": [
              "1"
            ]
          },
          "metadata": {},
          "execution_count": 6
        }
      ]
    },
    {
      "cell_type": "code",
      "source": [
        "2 % 2"
      ],
      "metadata": {
        "colab": {
          "base_uri": "https://localhost:8080/"
        },
        "id": "RrnhX7Bae0B4",
        "outputId": "94b88936-04d8-4ca1-cec7-47cf61c3ef95"
      },
      "execution_count": 7,
      "outputs": [
        {
          "output_type": "execute_result",
          "data": {
            "text/plain": [
              "0"
            ]
          },
          "metadata": {},
          "execution_count": 7
        }
      ]
    },
    {
      "cell_type": "code",
      "source": [
        "3%2"
      ],
      "metadata": {
        "colab": {
          "base_uri": "https://localhost:8080/"
        },
        "id": "HoWRgApye2VY",
        "outputId": "243566af-2933-4526-975c-260481449ec1"
      },
      "execution_count": 8,
      "outputs": [
        {
          "output_type": "execute_result",
          "data": {
            "text/plain": [
              "1"
            ]
          },
          "metadata": {},
          "execution_count": 8
        }
      ]
    },
    {
      "cell_type": "code",
      "source": [
        "4%2"
      ],
      "metadata": {
        "colab": {
          "base_uri": "https://localhost:8080/"
        },
        "id": "LeDdsdm4e5M4",
        "outputId": "37fc60f4-c1f5-43b1-f359-0fce181d28d1"
      },
      "execution_count": 9,
      "outputs": [
        {
          "output_type": "execute_result",
          "data": {
            "text/plain": [
              "0"
            ]
          },
          "metadata": {},
          "execution_count": 9
        }
      ]
    },
    {
      "cell_type": "code",
      "source": [
        "13%2"
      ],
      "metadata": {
        "colab": {
          "base_uri": "https://localhost:8080/"
        },
        "id": "-WnPJxBUe60g",
        "outputId": "b0943f84-0c2c-4eff-d1da-b9c56062982f"
      },
      "execution_count": 10,
      "outputs": [
        {
          "output_type": "execute_result",
          "data": {
            "text/plain": [
              "1"
            ]
          },
          "metadata": {},
          "execution_count": 10
        }
      ]
    },
    {
      "cell_type": "markdown",
      "source": [
        "식을 만드는 게 아니라 이런 식으로 귀납적으로 찾는다고???"
      ],
      "metadata": {
        "id": "GPHHye-ofATZ"
      }
    },
    {
      "cell_type": "markdown",
      "source": [
        "문제 3. 홍길동 씨의 주민등록번호는 881120-1068234이다. 홍길동 씨의 주민등록번호를 연월일(YYYYMMDD) 부분과 그 뒤의 숫자 부분으로 나누어 출력해보자."
      ],
      "metadata": {
        "id": "QCG_QpWZfHzP"
      }
    },
    {
      "cell_type": "code",
      "source": [
        "pin = \"881120-1068234\"\n",
        "a = pin[:6]\n",
        "b = pin[7:]\n",
        "print(a)\n",
        "print(b)"
      ],
      "metadata": {
        "colab": {
          "base_uri": "https://localhost:8080/"
        },
        "id": "7veo2ah7e9LD",
        "outputId": "d91cd568-6136-482f-ced3-7be14a917667"
      },
      "execution_count": 12,
      "outputs": [
        {
          "output_type": "stream",
          "name": "stdout",
          "text": [
            "881120\n",
            "1068234\n"
          ]
        }
      ]
    },
    {
      "cell_type": "markdown",
      "source": [
        "문자열의 슬라이싱 함수 a = 특정값 // b = a[:원하는 부분까지]"
      ],
      "metadata": {
        "id": "M57SXcpUgu30"
      }
    },
    {
      "cell_type": "markdown",
      "source": [
        "문제 4. 주민등록번호 뒷자리의 맨 첫 번째 숫자는 성별을 나타낸다. 주민등록번호에서 성별을 나타내는 숫자를 출력해 보자."
      ],
      "metadata": {
        "id": "AWoxdQKshB2Z"
      }
    },
    {
      "cell_type": "code",
      "source": [
        "pin = \"881120-10682234\"\n",
        "a = pin[7]\n",
        "print(a)"
      ],
      "metadata": {
        "colab": {
          "base_uri": "https://localhost:8080/"
        },
        "id": "hya57t_zgiLb",
        "outputId": "d2afc9c1-43b3-46ee-8505-25a827063735"
      },
      "execution_count": 13,
      "outputs": [
        {
          "output_type": "stream",
          "name": "stdout",
          "text": [
            "1\n"
          ]
        }
      ]
    },
    {
      "cell_type": "code",
      "source": [
        "pin = '881120-1068234'\n",
        "print(pin[7])"
      ],
      "metadata": {
        "colab": {
          "base_uri": "https://localhost:8080/"
        },
        "id": "2JG0g74Lhe2x",
        "outputId": "a896b299-e48a-4dc9-caed-57a32d7da98c"
      },
      "execution_count": 14,
      "outputs": [
        {
          "output_type": "stream",
          "name": "stdout",
          "text": [
            "1\n"
          ]
        }
      ]
    },
    {
      "cell_type": "markdown",
      "source": [
        "문자열 인덱싱 하는 법 : a[특정값]"
      ],
      "metadata": {
        "id": "JmfClL1Jh2Cc"
      }
    },
    {
      "cell_type": "markdown",
      "source": [
        "문제 5. 다음과 같은 문자열 a:b:c:d 가 있다. 문자열의 replace 함수를 사용하여 a#b#c#d 로 바꿔서 출력해 보자."
      ],
      "metadata": {
        "id": "6xACRmleh_j3"
      }
    },
    {
      "cell_type": "code",
      "source": [
        "a = \"a:b:c:d\"\n",
        "b = a.replace(:,#)\n",
        "print(b)"
      ],
      "metadata": {
        "colab": {
          "base_uri": "https://localhost:8080/",
          "height": 137
        },
        "id": "SjMUwCWAh03l",
        "outputId": "c22124f2-c4ff-458c-86a5-30cabc140661"
      },
      "execution_count": 15,
      "outputs": [
        {
          "output_type": "error",
          "ename": "SyntaxError",
          "evalue": "ignored",
          "traceback": [
            "\u001b[0;36m  File \u001b[0;32m\"<ipython-input-15-09076bba74b5>\"\u001b[0;36m, line \u001b[0;32m2\u001b[0m\n\u001b[0;31m    b = a.replace(:,#)\u001b[0m\n\u001b[0m                  ^\u001b[0m\n\u001b[0;31mSyntaxError\u001b[0m\u001b[0;31m:\u001b[0m invalid syntax\n"
          ]
        }
      ]
    },
    {
      "cell_type": "code",
      "source": [
        "a = \"a:b:c:d\"\n",
        "b = a.replace(\":\", \"#\")\n",
        "print(b)"
      ],
      "metadata": {
        "colab": {
          "base_uri": "https://localhost:8080/"
        },
        "id": "UU-ijtgLidY1",
        "outputId": "352a4779-a828-44a5-f23d-70ce68e40271"
      },
      "execution_count": 16,
      "outputs": [
        {
          "output_type": "stream",
          "name": "stdout",
          "text": [
            "a#b#c#d\n"
          ]
        }
      ]
    },
    {
      "cell_type": "markdown",
      "source": [
        "replace 함수 사용법 : b = a.replace(\"기존 값\", \"변경 값\")"
      ],
      "metadata": {
        "id": "EZDP6a8Ri6Re"
      }
    },
    {
      "cell_type": "markdown",
      "source": [
        "문제 6. [1,3,5,4,2] 리스트를 [5,4,3,2,1]로 만들어 보자."
      ],
      "metadata": {
        "id": "E8TE10usjMlE"
      }
    },
    {
      "cell_type": "code",
      "source": [
        "a = [1,3,5,4,2]\n",
        "b = a.upper[]\n",
        "print(b)"
      ],
      "metadata": {
        "colab": {
          "base_uri": "https://localhost:8080/",
          "height": 137
        },
        "id": "1tcNFGeri1lf",
        "outputId": "de59a370-cdde-48f2-db2d-ae3d056a5e65"
      },
      "execution_count": 17,
      "outputs": [
        {
          "output_type": "error",
          "ename": "SyntaxError",
          "evalue": "ignored",
          "traceback": [
            "\u001b[0;36m  File \u001b[0;32m\"<ipython-input-17-abad38ff7456>\"\u001b[0;36m, line \u001b[0;32m2\u001b[0m\n\u001b[0;31m    b = a.upper[]\u001b[0m\n\u001b[0m                ^\u001b[0m\n\u001b[0;31mSyntaxError\u001b[0m\u001b[0;31m:\u001b[0m invalid syntax\n"
          ]
        }
      ]
    },
    {
      "cell_type": "code",
      "source": [
        "a = [1,3,5,4,2]\n",
        "a.sort()\n",
        "a"
      ],
      "metadata": {
        "colab": {
          "base_uri": "https://localhost:8080/"
        },
        "id": "TvhzpZ_qjeJ6",
        "outputId": "9454be70-12ca-487f-d65e-188221f883b4"
      },
      "execution_count": 18,
      "outputs": [
        {
          "output_type": "execute_result",
          "data": {
            "text/plain": [
              "[1, 2, 3, 4, 5]"
            ]
          },
          "metadata": {},
          "execution_count": 18
        }
      ]
    },
    {
      "cell_type": "code",
      "source": [
        "a.reverse()\n",
        "a"
      ],
      "metadata": {
        "colab": {
          "base_uri": "https://localhost:8080/"
        },
        "id": "7tTuPnfuj9XE",
        "outputId": "26f7c188-13ce-4abb-a85d-e5f1fcfdbb5f"
      },
      "execution_count": 19,
      "outputs": [
        {
          "output_type": "execute_result",
          "data": {
            "text/plain": [
              "[5, 4, 3, 2, 1]"
            ]
          },
          "metadata": {},
          "execution_count": 19
        }
      ]
    },
    {
      "cell_type": "markdown",
      "source": [
        "sort 함수를 사용하여 정렬하고 reverse 함수를 사용하여 거꾸로 뒤집는다.\n",
        "// a = [1,5,2,4,3] // a.sort() // a.reverse()"
      ],
      "metadata": {
        "id": "9jOJsnPPkKAL"
      }
    },
    {
      "cell_type": "markdown",
      "source": [
        "문제 7. ['Life', 'is', 'too', 'short']리스트를 Life is too short 문자열로 만들어 출력해 보자."
      ],
      "metadata": {
        "id": "QO12mNWWki-L"
      }
    },
    {
      "cell_type": "code",
      "source": [
        "a = ['Life', 'is', 'too', 'short']\n",
        "result = \" \".join(a)\n",
        "print(result)"
      ],
      "metadata": {
        "colab": {
          "base_uri": "https://localhost:8080/"
        },
        "id": "2dHSswPhkCl7",
        "outputId": "85f9e749-063c-4734-deb2-e1a35e670f62"
      },
      "execution_count": 20,
      "outputs": [
        {
          "output_type": "stream",
          "name": "stdout",
          "text": [
            "Life is too short\n"
          ]
        }
      ]
    },
    {
      "cell_type": "markdown",
      "source": [
        "문자열 자료형에서 리스트의 각 값을 파악하고 각 값들의 사이에 집어넣는 함수는 join 함수를 사용한다. // \"집어넣을 것\".join()"
      ],
      "metadata": {
        "id": "0pyh1C9Ul9gh"
      }
    },
    {
      "cell_type": "markdown",
      "source": [
        "문제 8. (1,2,3) 튜플에 값 4를 추가하여 (1,2,3,4)를 만들어 출력해 보자."
      ],
      "metadata": {
        "id": "GJfKGaZtmSQD"
      }
    },
    {
      "cell_type": "code",
      "source": [
        "a = (1,2,3)\n",
        "a.append(4)\n",
        "a"
      ],
      "metadata": {
        "colab": {
          "base_uri": "https://localhost:8080/",
          "height": 211
        },
        "id": "jNOeQCsNlvTx",
        "outputId": "91b5ad0a-4048-4ce5-81e0-245b9b1d1d7d"
      },
      "execution_count": 21,
      "outputs": [
        {
          "output_type": "error",
          "ename": "AttributeError",
          "evalue": "ignored",
          "traceback": [
            "\u001b[0;31m---------------------------------------------------------------------------\u001b[0m",
            "\u001b[0;31mAttributeError\u001b[0m                            Traceback (most recent call last)",
            "\u001b[0;32m<ipython-input-21-28c6030cc602>\u001b[0m in \u001b[0;36m<module>\u001b[0;34m()\u001b[0m\n\u001b[1;32m      1\u001b[0m \u001b[0ma\u001b[0m \u001b[0;34m=\u001b[0m \u001b[0;34m(\u001b[0m\u001b[0;36m1\u001b[0m\u001b[0;34m,\u001b[0m\u001b[0;36m2\u001b[0m\u001b[0;34m,\u001b[0m\u001b[0;36m3\u001b[0m\u001b[0;34m)\u001b[0m\u001b[0;34m\u001b[0m\u001b[0;34m\u001b[0m\u001b[0m\n\u001b[0;32m----> 2\u001b[0;31m \u001b[0ma\u001b[0m\u001b[0;34m.\u001b[0m\u001b[0mappend\u001b[0m\u001b[0;34m(\u001b[0m\u001b[0;36m4\u001b[0m\u001b[0;34m)\u001b[0m\u001b[0;34m\u001b[0m\u001b[0;34m\u001b[0m\u001b[0m\n\u001b[0m\u001b[1;32m      3\u001b[0m \u001b[0ma\u001b[0m\u001b[0;34m\u001b[0m\u001b[0;34m\u001b[0m\u001b[0m\n",
            "\u001b[0;31mAttributeError\u001b[0m: 'tuple' object has no attribute 'append'"
          ]
        }
      ]
    },
    {
      "cell_type": "code",
      "source": [
        "a = (1,2,3)\n",
        "a = a + (4,)\n",
        "a"
      ],
      "metadata": {
        "colab": {
          "base_uri": "https://localhost:8080/"
        },
        "id": "OWOU-0E2mf6j",
        "outputId": "87889299-42d0-4d0c-b533-64c370f87013"
      },
      "execution_count": 25,
      "outputs": [
        {
          "output_type": "execute_result",
          "data": {
            "text/plain": [
              "(1, 2, 3, 4)"
            ]
          },
          "metadata": {},
          "execution_count": 25
        }
      ]
    },
    {
      "cell_type": "markdown",
      "source": [
        "튜플은 값을 삭제하거나 변경하지 못한다. 새로운 튜플을 만들어 낸다고 생각하면 된다. 근데 a = a + (4,)에서 왜 4,를 하는지 모르겠다?????"
      ],
      "metadata": {
        "id": "6kSd7ZnpnVrI"
      }
    },
    {
      "cell_type": "markdown",
      "source": [
        "문제 9. 다음과 같은 딕서녀리 a가 있다.\n",
        "a = dict() // a // {} // 다음 중 오류가 발생하는 경우를 고르고, 그 이유를 설명해 보자. 1. a['name']='python' // 2. a[('a',)]='python' // 3. a[[1]]='python' // 4. a[250]='python'"
      ],
      "metadata": {
        "id": "Ngc3yukmnuDf"
      }
    },
    {
      "cell_type": "code",
      "source": [
        "a=dict()\n",
        "a"
      ],
      "metadata": {
        "colab": {
          "base_uri": "https://localhost:8080/"
        },
        "id": "kchSWkuwnE0_",
        "outputId": "d76d14d8-df6e-4ebd-bc37-ee3a0c89c26e"
      },
      "execution_count": 26,
      "outputs": [
        {
          "output_type": "execute_result",
          "data": {
            "text/plain": [
              "{}"
            ]
          },
          "metadata": {},
          "execution_count": 26
        }
      ]
    },
    {
      "cell_type": "code",
      "source": [
        "a['name']='python'"
      ],
      "metadata": {
        "id": "lSf-saBspB66"
      },
      "execution_count": 28,
      "outputs": []
    },
    {
      "cell_type": "code",
      "source": [
        "a"
      ],
      "metadata": {
        "colab": {
          "base_uri": "https://localhost:8080/"
        },
        "id": "UY87zVbSpLWi",
        "outputId": "75aa2d20-e748-4e9d-e0c5-1a524794d6a7"
      },
      "execution_count": 29,
      "outputs": [
        {
          "output_type": "execute_result",
          "data": {
            "text/plain": [
              "{'name': 'python'}"
            ]
          },
          "metadata": {},
          "execution_count": 29
        }
      ]
    },
    {
      "cell_type": "code",
      "source": [
        "a[('a'),]='python'"
      ],
      "metadata": {
        "id": "dDn2eyWdpMWo"
      },
      "execution_count": 30,
      "outputs": []
    },
    {
      "cell_type": "code",
      "source": [
        "a"
      ],
      "metadata": {
        "colab": {
          "base_uri": "https://localhost:8080/"
        },
        "id": "K458HtPTpS6U",
        "outputId": "237171a6-9d3f-4d0a-dc58-f544778fb9c1"
      },
      "execution_count": 31,
      "outputs": [
        {
          "output_type": "execute_result",
          "data": {
            "text/plain": [
              "{('a',): 'python', 'name': 'python'}"
            ]
          },
          "metadata": {},
          "execution_count": 31
        }
      ]
    },
    {
      "cell_type": "code",
      "source": [
        "a[[1]]='python'"
      ],
      "metadata": {
        "colab": {
          "base_uri": "https://localhost:8080/",
          "height": 174
        },
        "id": "0-zl-mzEpUR0",
        "outputId": "9546a2d2-899a-4531-de88-f18c5e9f3541"
      },
      "execution_count": 32,
      "outputs": [
        {
          "output_type": "error",
          "ename": "TypeError",
          "evalue": "ignored",
          "traceback": [
            "\u001b[0;31m---------------------------------------------------------------------------\u001b[0m",
            "\u001b[0;31mTypeError\u001b[0m                                 Traceback (most recent call last)",
            "\u001b[0;32m<ipython-input-32-172a07164315>\u001b[0m in \u001b[0;36m<module>\u001b[0;34m()\u001b[0m\n\u001b[0;32m----> 1\u001b[0;31m \u001b[0ma\u001b[0m\u001b[0;34m[\u001b[0m\u001b[0;34m[\u001b[0m\u001b[0;36m1\u001b[0m\u001b[0;34m]\u001b[0m\u001b[0;34m]\u001b[0m\u001b[0;34m=\u001b[0m\u001b[0;34m'python'\u001b[0m\u001b[0;34m\u001b[0m\u001b[0;34m\u001b[0m\u001b[0m\n\u001b[0m",
            "\u001b[0;31mTypeError\u001b[0m: unhashable type: 'list'"
          ]
        }
      ]
    },
    {
      "cell_type": "code",
      "source": [
        "a[250]='python'"
      ],
      "metadata": {
        "id": "Y9knyWoPqAte"
      },
      "execution_count": 33,
      "outputs": []
    },
    {
      "cell_type": "code",
      "source": [
        "a\n"
      ],
      "metadata": {
        "colab": {
          "base_uri": "https://localhost:8080/"
        },
        "id": "qbu1CZfCqEed",
        "outputId": "636fd19b-9d4c-45eb-a759-76d84b560e54"
      },
      "execution_count": 34,
      "outputs": [
        {
          "output_type": "execute_result",
          "data": {
            "text/plain": [
              "{('a',): 'python', 250: 'python', 'name': 'python'}"
            ]
          },
          "metadata": {},
          "execution_count": 34
        }
      ]
    },
    {
      "cell_type": "markdown",
      "source": [
        "딕셔너리의 Key로는 변하는(mutable) 값을 사용할 수 없기 때문. 위 예에서 Key로 사용된 [1] 은 리스트이므로 변하는 값이다. 다른 예에서 Key로 사용된 문자열, 튜플, 숫자는 변하지 않는(immutable) 값이므로 딕셔너리의 Key로 사용이 가능하다."
      ],
      "metadata": {
        "id": "a0rNUU4wqSlg"
      }
    },
    {
      "cell_type": "markdown",
      "source": [
        "문제 10. 딕셔너리 a에서 'B'에 해당되는 값을 추출해 보자.\n",
        "a = {'A':90, 'B':80, 'C':70}"
      ],
      "metadata": {
        "id": "R0j2-2krqqlw"
      }
    },
    {
      "cell_type": "code",
      "source": [
        "a = {'A':90, 'B':80, 'C':70}\n",
        "result = a.pop('B')\n",
        "a"
      ],
      "metadata": {
        "colab": {
          "base_uri": "https://localhost:8080/"
        },
        "id": "w3sUkoDGqF-5",
        "outputId": "0dd0a65e-b866-4f90-abc8-65f797982de2"
      },
      "execution_count": 36,
      "outputs": [
        {
          "output_type": "execute_result",
          "data": {
            "text/plain": [
              "{'A': 90, 'C': 70}"
            ]
          },
          "metadata": {},
          "execution_count": 36
        }
      ]
    },
    {
      "cell_type": "code",
      "source": [
        "result"
      ],
      "metadata": {
        "colab": {
          "base_uri": "https://localhost:8080/"
        },
        "id": "me342AxSrQim",
        "outputId": "af2888fd-dd7b-48e9-bf1c-b80ab2cfacb5"
      },
      "execution_count": 37,
      "outputs": [
        {
          "output_type": "execute_result",
          "data": {
            "text/plain": [
              "80"
            ]
          },
          "metadata": {},
          "execution_count": 37
        }
      ]
    },
    {
      "cell_type": "code",
      "source": [
        "a = {'A':90, 'B':80, 'C':70}"
      ],
      "metadata": {
        "id": "NaFDeDLOrvg4"
      },
      "execution_count": 39,
      "outputs": []
    },
    {
      "cell_type": "code",
      "source": [
        "a('B')"
      ],
      "metadata": {
        "colab": {
          "base_uri": "https://localhost:8080/",
          "height": 174
        },
        "id": "r3tnVF0isI5S",
        "outputId": "54554142-7e94-4e2b-859b-e26517e419cd"
      },
      "execution_count": 40,
      "outputs": [
        {
          "output_type": "error",
          "ename": "TypeError",
          "evalue": "ignored",
          "traceback": [
            "\u001b[0;31m---------------------------------------------------------------------------\u001b[0m",
            "\u001b[0;31mTypeError\u001b[0m                                 Traceback (most recent call last)",
            "\u001b[0;32m<ipython-input-40-422eb6d259ca>\u001b[0m in \u001b[0;36m<module>\u001b[0;34m()\u001b[0m\n\u001b[0;32m----> 1\u001b[0;31m \u001b[0ma\u001b[0m\u001b[0;34m(\u001b[0m\u001b[0;34m'B'\u001b[0m\u001b[0;34m)\u001b[0m\u001b[0;34m\u001b[0m\u001b[0;34m\u001b[0m\u001b[0m\n\u001b[0m",
            "\u001b[0;31mTypeError\u001b[0m: 'dict' object is not callable"
          ]
        }
      ]
    },
    {
      "cell_type": "code",
      "source": [
        "a['B']"
      ],
      "metadata": {
        "colab": {
          "base_uri": "https://localhost:8080/"
        },
        "id": "wgG5DRG4sUpj",
        "outputId": "a2002f1a-f8e7-4fe3-e555-ed0d028fb030"
      },
      "execution_count": 41,
      "outputs": [
        {
          "output_type": "execute_result",
          "data": {
            "text/plain": [
              "80"
            ]
          },
          "metadata": {},
          "execution_count": 41
        }
      ]
    },
    {
      "cell_type": "markdown",
      "source": [
        "pop 함수를 사용하라고 해설서에서 말하는 이유는 뭘까???? 그냥 B값을 찾고 싶으면 key인 B를 입력해서 출력하면 되는거 아닌가??"
      ],
      "metadata": {
        "id": "W3WIrtWEs9Vf"
      }
    },
    {
      "cell_type": "markdown",
      "source": [
        "문제 11. a리스트에서 중복 숫자를 제거해 보자.\n",
        "a = [1,1,1,2,2,3,3,3,4,4,5]"
      ],
      "metadata": {
        "id": "nNcZHg2KtWNL"
      }
    },
    {
      "cell_type": "code",
      "source": [
        "a = [1,1,1,2,2,3,3,3,4,4,5]\n",
        "aSet = set(a)\n",
        "b = aSet\n",
        "b"
      ],
      "metadata": {
        "colab": {
          "base_uri": "https://localhost:8080/"
        },
        "id": "8Fo-bBUVsbYL",
        "outputId": "33c3961e-ca98-498b-ccbd-c6dfa1bd5ad0"
      },
      "execution_count": 42,
      "outputs": [
        {
          "output_type": "execute_result",
          "data": {
            "text/plain": [
              "{1, 2, 3, 4, 5}"
            ]
          },
          "metadata": {},
          "execution_count": 42
        }
      ]
    },
    {
      "cell_type": "markdown",
      "source": [
        "집합 자료형의 특징 - 중복을 허용하지 않는다. 순서가 없다."
      ],
      "metadata": {
        "id": "6FmkAhmTuMFN"
      }
    },
    {
      "cell_type": "code",
      "source": [
        "a = [1,1,1,2,2,3,3,3,4,4,5]\n",
        "b = set(a)\n",
        "b"
      ],
      "metadata": {
        "colab": {
          "base_uri": "https://localhost:8080/"
        },
        "id": "n3dVc0LjuEsc",
        "outputId": "6804194e-7795-4f89-eddf-b43faa6b2225"
      },
      "execution_count": 43,
      "outputs": [
        {
          "output_type": "execute_result",
          "data": {
            "text/plain": [
              "{1, 2, 3, 4, 5}"
            ]
          },
          "metadata": {},
          "execution_count": 43
        }
      ]
    },
    {
      "cell_type": "markdown",
      "source": [
        "집합자료형으로 만드는 방법은 b= set(a) 이런 식으로 하면 된다.(a는 중복된 자료가 있는 집합)"
      ],
      "metadata": {
        "id": "SM7Hn2lDudkz"
      }
    },
    {
      "cell_type": "markdown",
      "source": [
        "문제 12. 파이썬은 다음처럼 동일한 값에 여러 개의 변수를 선언할 수 있다. 다음과 같이 a,b 변수를 선언한 후 a의 두 번째 요솟값을 변경하면 b값은 어떻게 될까?"
      ],
      "metadata": {
        "id": "j-2DQ2hXukS7"
      }
    },
    {
      "cell_type": "code",
      "source": [
        "a = b = [1,2,3]\n",
        "a[1] = 4\n",
        "print(b)"
      ],
      "metadata": {
        "colab": {
          "base_uri": "https://localhost:8080/"
        },
        "id": "nBfuArS0uZCM",
        "outputId": "f95a7a38-23c6-4ec5-bf2d-c6387786da91"
      },
      "execution_count": 44,
      "outputs": [
        {
          "output_type": "stream",
          "name": "stdout",
          "text": [
            "[1, 4, 3]\n"
          ]
        }
      ]
    },
    {
      "cell_type": "markdown",
      "source": [
        "a 와 b 모두 동일한 [1,2,3] 이라는 리스트 객체를 가리키고 있다."
      ],
      "metadata": {
        "id": "v9Z-SwqfvS31"
      }
    },
    {
      "cell_type": "markdown",
      "source": [
        "b가 a의 변수 값을 가져오면서 a와는 다른 주소를 가리키도록 하는 방법\n",
        "// 1. [:] 사용 // 2. copy모듈 사용"
      ],
      "metadata": {
        "id": "JBueCuUfvoVl"
      }
    },
    {
      "cell_type": "markdown",
      "source": [
        "5일 차 학습 종료 - p.115까지 문제풀이 완료"
      ],
      "metadata": {
        "id": "_D0febtbv6KA"
      }
    },
    {
      "cell_type": "code",
      "source": [
        ""
      ],
      "metadata": {
        "id": "nRoqmSXWvMuG"
      },
      "execution_count": null,
      "outputs": []
    }
  ]
}