{
  "nbformat": 4,
  "nbformat_minor": 0,
  "metadata": {
    "colab": {
      "name": "Untitled8.ipynb",
      "provenance": [],
      "authorship_tag": "ABX9TyPa7pbww4JVDw6PQz1C+QVn",
      "include_colab_link": true
    },
    "kernelspec": {
      "name": "python3",
      "display_name": "Python 3"
    },
    "language_info": {
      "name": "python"
    }
  },
  "cells": [
    {
      "cell_type": "markdown",
      "metadata": {
        "id": "view-in-github",
        "colab_type": "text"
      },
      "source": [
        "<a href=\"https://colab.research.google.com/github/unseodongtallulla/jump_to_python/blob/main/Untitled8.ipynb\" target=\"_parent\"><img src=\"https://colab.research.google.com/assets/colab-badge.svg\" alt=\"Open In Colab\"/></a>"
      ]
    },
    {
      "cell_type": "markdown",
      "source": [
        "점프 투 파이썬 학습 7일차 - 04-1 함수"
      ],
      "metadata": {
        "id": "Kn2oDEIRtYTL"
      }
    },
    {
      "cell_type": "markdown",
      "source": [
        "파이썬 함수의 구조\n",
        "// def 함수이름(매개변수) / 수행할 문장1 / 수행할 문장2"
      ],
      "metadata": {
        "id": "ryBdKpuT9UyG"
      }
    },
    {
      "cell_type": "code",
      "execution_count": 1,
      "metadata": {
        "colab": {
          "base_uri": "https://localhost:8080/"
        },
        "id": "oucfGIbDtREa",
        "outputId": "3b44c9d6-7f32-406b-c378-327ddc65c280"
      },
      "outputs": [
        {
          "output_type": "stream",
          "name": "stdout",
          "text": [
            "7\n"
          ]
        }
      ],
      "source": [
        "def add(a, b):\n",
        "    return a + b\n",
        "\n",
        "a = 3\n",
        "b = 4\n",
        "c = add(a, b)\n",
        "print(c)"
      ]
    },
    {
      "cell_type": "markdown",
      "source": [
        "매개변수(parameter) : 함수에 입력으로 전달된 값을 받는 변수\n",
        "// 인수(arguments) : 함수를 호출할 때 전달하는 입력값을 의미"
      ],
      "metadata": {
        "id": "oLIkPtiX9_-m"
      }
    },
    {
      "cell_type": "code",
      "source": [
        "def add(a, b):\n",
        "    result = a + b\n",
        "    return result\n",
        "\n",
        "a = add(3, 4)\n",
        "print(a)"
      ],
      "metadata": {
        "colab": {
          "base_uri": "https://localhost:8080/"
        },
        "id": "2VBAkGKV95Jn",
        "outputId": "5b7a453f-a601-4ee7-ea53-69eb0cd2ef79"
      },
      "execution_count": 2,
      "outputs": [
        {
          "output_type": "stream",
          "name": "stdout",
          "text": [
            "7\n"
          ]
        }
      ]
    },
    {
      "cell_type": "markdown",
      "source": [
        "입력값과 결괏값이 있는 함수의 사용법\n",
        "// 결괏값을 받을 변수 = 함수이름(입력인수1, 입력인수2, ......)"
      ],
      "metadata": {
        "id": "HjQ1ImMW_HYx"
      }
    },
    {
      "cell_type": "code",
      "source": [
        "def say():\n",
        "    return 'Hi'\n",
        "\n",
        "a = say()\n",
        "print(a)"
      ],
      "metadata": {
        "colab": {
          "base_uri": "https://localhost:8080/"
        },
        "id": "iENHmlPT_A0Z",
        "outputId": "03027987-1585-439a-a1c6-82c604427357"
      },
      "execution_count": 3,
      "outputs": [
        {
          "output_type": "stream",
          "name": "stdout",
          "text": [
            "Hi\n"
          ]
        }
      ]
    },
    {
      "cell_type": "markdown",
      "source": [
        "입력값이 없고 결괏값만 있는 함수\n",
        "// 결괏값을 받을 함수 = 함수이름()"
      ],
      "metadata": {
        "id": "YUFU0EZd_yQb"
      }
    },
    {
      "cell_type": "code",
      "source": [
        "def add(a, b):\n",
        "    print(\"%d, %d의 합은 %d입니다\" % (a, b, a+b))\n",
        "\n",
        "add(3,4)"
      ],
      "metadata": {
        "colab": {
          "base_uri": "https://localhost:8080/"
        },
        "id": "FenPFGFy_qaU",
        "outputId": "c5411386-b09f-4429-8006-c57ef3cb1ca1"
      },
      "execution_count": 4,
      "outputs": [
        {
          "output_type": "stream",
          "name": "stdout",
          "text": [
            "3, 4의 합은 7입니다\n"
          ]
        }
      ]
    },
    {
      "cell_type": "markdown",
      "source": [
        "결괏값이 없는 함수\n",
        "// 함수이름(입력인수1, 입력인수2, ......)"
      ],
      "metadata": {
        "id": "KOp-UMatAltK"
      }
    },
    {
      "cell_type": "markdown",
      "source": [
        "결괏값은 오직 return 명령어로만 돌려받을 수 있다."
      ],
      "metadata": {
        "id": "6QqspPG4A1n5"
      }
    },
    {
      "cell_type": "code",
      "source": [
        "def say():\n",
        "    print('Hi')\n",
        "say()"
      ],
      "metadata": {
        "colab": {
          "base_uri": "https://localhost:8080/"
        },
        "id": "WrFRJJgyAgc8",
        "outputId": "ddabd4d4-7bcb-49e0-cb9d-34e945bc5057"
      },
      "execution_count": 5,
      "outputs": [
        {
          "output_type": "stream",
          "name": "stdout",
          "text": [
            "Hi\n"
          ]
        }
      ]
    },
    {
      "cell_type": "markdown",
      "source": [
        "입력값도 결괏값도 없는 함수\n",
        "// 함수이름()"
      ],
      "metadata": {
        "id": "1rGAV7KEBOCG"
      }
    },
    {
      "cell_type": "markdown",
      "source": [
        "8일차 학습 종료 - p.156까지"
      ],
      "metadata": {
        "id": "7aGCsjpuBU81"
      }
    },
    {
      "cell_type": "code",
      "source": [
        ""
      ],
      "metadata": {
        "id": "QfXBn5rCBMPh"
      },
      "execution_count": null,
      "outputs": []
    }
  ]
}