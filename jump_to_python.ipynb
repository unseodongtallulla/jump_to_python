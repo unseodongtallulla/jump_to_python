{
  "nbformat": 4,
  "nbformat_minor": 0,
  "metadata": {
    "colab": {
      "name": "Untitled0.ipynb",
      "provenance": [],
      "authorship_tag": "ABX9TyOOD/8uswyyXoOIisGU+rgg",
      "include_colab_link": true
    },
    "kernelspec": {
      "name": "python3",
      "display_name": "Python 3"
    },
    "language_info": {
      "name": "python"
    }
  },
  "cells": [
    {
      "cell_type": "markdown",
      "metadata": {
        "id": "view-in-github",
        "colab_type": "text"
      },
      "source": [
        "<a href=\"https://colab.research.google.com/github/unseodongtallulla/jump_to_python/blob/main/jump_to_python.ipynb\" target=\"_parent\"><img src=\"https://colab.research.google.com/assets/colab-badge.svg\" alt=\"Open In Colab\"/></a>"
      ]
    },
    {
      "cell_type": "code",
      "metadata": {
        "colab": {
          "base_uri": "https://localhost:8080/"
        },
        "id": "Tvn1k-JarYcH",
        "outputId": "024de0e6-ea2a-467b-a2df-101d12a6fe0a"
      },
      "source": [
        "a=1\n",
        "b=3\n",
        "a+b"
      ],
      "execution_count": null,
      "outputs": [
        {
          "output_type": "execute_result",
          "data": {
            "text/plain": [
              "4"
            ]
          },
          "metadata": {},
          "execution_count": 20
        }
      ]
    },
    {
      "cell_type": "code",
      "metadata": {
        "id": "XT9j93N1v_iZ",
        "colab": {
          "base_uri": "https://localhost:8080/"
        },
        "outputId": "26654846-4c97-4637-a6d9-a92c8cce5432"
      },
      "source": [
        "4*2"
      ],
      "execution_count": null,
      "outputs": [
        {
          "output_type": "execute_result",
          "data": {
            "text/plain": [
              "8"
            ]
          },
          "metadata": {},
          "execution_count": 1
        }
      ]
    },
    {
      "cell_type": "code",
      "metadata": {
        "id": "zQL8ESCvv_nq"
      },
      "source": [
        "# 어렵다..."
      ],
      "execution_count": null,
      "outputs": []
    },
    {
      "cell_type": "code",
      "metadata": {
        "id": "H5ckOBY3v_5b"
      },
      "source": [
        ""
      ],
      "execution_count": null,
      "outputs": []
    },
    {
      "cell_type": "code",
      "metadata": {
        "id": "EH4q2QpnUsAt",
        "colab": {
          "base_uri": "https://localhost:8080/"
        },
        "outputId": "cd03a609-212e-4c77-b1f8-fd321527144f"
      },
      "source": [
        "1+2"
      ],
      "execution_count": null,
      "outputs": [
        {
          "output_type": "execute_result",
          "data": {
            "text/plain": [
              "3"
            ]
          },
          "metadata": {},
          "execution_count": 1
        }
      ]
    },
    {
      "cell_type": "code",
      "metadata": {
        "id": "E8_QEFLjUzIR",
        "colab": {
          "base_uri": "https://localhost:8080/"
        },
        "outputId": "0b872c59-b2cd-4475-d92a-4253d9ce03b0"
      },
      "source": [
        "3/2.4"
      ],
      "execution_count": null,
      "outputs": [
        {
          "output_type": "execute_result",
          "data": {
            "text/plain": [
              "1.25"
            ]
          },
          "metadata": {},
          "execution_count": 2
        }
      ]
    },
    {
      "cell_type": "code",
      "metadata": {
        "id": "eTZ6Ou1PU3Iy",
        "colab": {
          "base_uri": "https://localhost:8080/"
        },
        "outputId": "10ec4e72-22f2-424d-932a-a18375d8f676"
      },
      "source": [
        "3*9"
      ],
      "execution_count": null,
      "outputs": [
        {
          "output_type": "execute_result",
          "data": {
            "text/plain": [
              "27"
            ]
          },
          "metadata": {},
          "execution_count": 3
        }
      ]
    },
    {
      "cell_type": "code",
      "metadata": {
        "id": "0PbzUMX7U9gD",
        "colab": {
          "base_uri": "https://localhost:8080/"
        },
        "outputId": "b55d9232-6184-42cd-a4da-3c7577689668"
      },
      "source": [
        "a=1\n",
        "b=2\n",
        "a+b"
      ],
      "execution_count": null,
      "outputs": [
        {
          "output_type": "execute_result",
          "data": {
            "text/plain": [
              "3"
            ]
          },
          "metadata": {},
          "execution_count": 4
        }
      ]
    },
    {
      "cell_type": "code",
      "metadata": {
        "id": "Ai9Vd-QNVE-e",
        "colab": {
          "base_uri": "https://localhost:8080/"
        },
        "outputId": "82551ed6-f3c6-424f-deed-5c2c86922426"
      },
      "source": [
        "a=\"python\"\n",
        "print(a) "
      ],
      "execution_count": null,
      "outputs": [
        {
          "output_type": "stream",
          "name": "stdout",
          "text": [
            "python\n"
          ]
        }
      ]
    },
    {
      "cell_type": "code",
      "metadata": {
        "id": "VW-bMVGRViXC",
        "colab": {
          "base_uri": "https://localhost:8080/",
          "height": 35
        },
        "outputId": "8ecdf1e4-59be-4f5c-f00e-c22024eca05b"
      },
      "source": [
        "a=\"python\"\n",
        "a"
      ],
      "execution_count": null,
      "outputs": [
        {
          "output_type": "execute_result",
          "data": {
            "application/vnd.google.colaboratory.intrinsic+json": {
              "type": "string"
            },
            "text/plain": [
              "'python'"
            ]
          },
          "metadata": {},
          "execution_count": 9
        }
      ]
    },
    {
      "cell_type": "code",
      "metadata": {
        "id": "775SQ9ZrVoC-",
        "colab": {
          "base_uri": "https://localhost:8080/"
        },
        "outputId": "4d41a199-ab11-4e5e-f2b5-1df9c0326cf5"
      },
      "source": [
        "a=3\n",
        "if a>1:\n",
        "    print(\"a is bigger than 1\")\n",
        "    "
      ],
      "execution_count": null,
      "outputs": [
        {
          "output_type": "stream",
          "name": "stdout",
          "text": [
            "a is bigger than 1\n"
          ]
        }
      ]
    },
    {
      "cell_type": "code",
      "metadata": {
        "id": "Z5TUnwqpWJSf",
        "colab": {
          "base_uri": "https://localhost:8080/"
        },
        "outputId": "21c25d85-e3e5-4004-de3e-a9faef981edf"
      },
      "source": [
        "for a in [1, 2, 3] :\n",
        "    print(a)\n"
      ],
      "execution_count": null,
      "outputs": [
        {
          "output_type": "stream",
          "name": "stdout",
          "text": [
            "1\n",
            "2\n",
            "3\n"
          ]
        }
      ]
    },
    {
      "cell_type": "code",
      "metadata": {
        "id": "DyiQOMVtXEOm",
        "colab": {
          "base_uri": "https://localhost:8080/"
        },
        "outputId": "3ddf8ee0-f9b5-42df-fc61-8c1b7c4a4f37"
      },
      "source": [
        "i=0\n",
        "while i<3 :\n",
        "  i=i+1\n",
        "  print(i)\n",
        "\n"
      ],
      "execution_count": null,
      "outputs": [
        {
          "output_type": "stream",
          "name": "stdout",
          "text": [
            "1\n",
            "2\n",
            "3\n"
          ]
        }
      ]
    },
    {
      "cell_type": "code",
      "metadata": {
        "id": "NnANyzv8XtZU"
      },
      "source": [
        "def add(a, b) :\n",
        "  return a+b\n",
        "\n",
        "  add(3, 4)\n",
        "  "
      ],
      "execution_count": null,
      "outputs": []
    },
    {
      "cell_type": "code",
      "metadata": {
        "id": "D7mHmBe4Yv0F"
      },
      "source": [
        "a=4.24e10\n",
        "a=4.24e-10"
      ],
      "execution_count": null,
      "outputs": []
    },
    {
      "cell_type": "code",
      "metadata": {
        "id": "ZK9YKSeSY60V"
      },
      "source": [
        "a=0o177"
      ],
      "execution_count": null,
      "outputs": []
    },
    {
      "cell_type": "code",
      "metadata": {
        "id": "GMjvHhWzZCYu"
      },
      "source": [
        "a=0x8ff\n",
        "b=0xABC"
      ],
      "execution_count": null,
      "outputs": []
    },
    {
      "cell_type": "code",
      "metadata": {
        "id": "7V21ZvelZPe9",
        "colab": {
          "base_uri": "https://localhost:8080/"
        },
        "outputId": "10cd4620-4d40-491c-d9c2-abb2e5ebe330"
      },
      "source": [
        "a=3\n",
        "b=4\n",
        "a+b\n",
        "a*b\n",
        "a/b\n",
        "a**b"
      ],
      "execution_count": null,
      "outputs": [
        {
          "output_type": "execute_result",
          "data": {
            "text/plain": [
              "81"
            ]
          },
          "metadata": {},
          "execution_count": 30
        }
      ]
    },
    {
      "cell_type": "code",
      "metadata": {
        "id": "xam2TSJgZqZX",
        "colab": {
          "base_uri": "https://localhost:8080/"
        },
        "outputId": "f4c43c9c-f322-4eff-f9df-a63f88ce262b"
      },
      "source": [
        "7%3\n",
        "3%7"
      ],
      "execution_count": null,
      "outputs": [
        {
          "output_type": "execute_result",
          "data": {
            "text/plain": [
              "3"
            ]
          },
          "metadata": {},
          "execution_count": 32
        }
      ]
    },
    {
      "cell_type": "code",
      "metadata": {
        "id": "3MWSnY34aGuw",
        "colab": {
          "base_uri": "https://localhost:8080/"
        },
        "outputId": "47c11ff5-20b6-4f68-824a-b21e003268bb"
      },
      "source": [
        "14/3\n",
        "14//3\n",
        "14%3"
      ],
      "execution_count": null,
      "outputs": [
        {
          "output_type": "execute_result",
          "data": {
            "text/plain": [
              "2"
            ]
          },
          "metadata": {},
          "execution_count": 38
        }
      ]
    },
    {
      "cell_type": "markdown",
      "metadata": {
        "id": "mwundjgrbAoC"
      },
      "source": [
        "점프투파이썬 p.43 숫자형까지 공부"
      ]
    }
  ]
}